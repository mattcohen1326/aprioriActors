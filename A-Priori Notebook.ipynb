{
 "cells": [
  {
   "cell_type": "code",
   "execution_count": 9,
   "metadata": {},
   "outputs": [],
   "source": [
    "#Right now we could maybe widdle down to movies above a certain rating + number of ratings"
   ]
  },
  {
   "cell_type": "code",
   "execution_count": 1,
   "metadata": {},
   "outputs": [],
   "source": [
    "import pandas as pd\n",
    "import csv\n",
    "import time\n",
    "import numpy as np\n",
    "import itertools"
   ]
  },
  {
   "cell_type": "code",
   "execution_count": 3,
   "metadata": {},
   "outputs": [],
   "source": [
    "df_ratings = pd.read_csv('data/ratings.tsv',sep = '\\t')\n",
    "titles = pd.read_csv('data/titles.tsv',sep='\\t')\n",
    "names = pd.read_csv('data/names.tsv',sep = '\\t')\n",
    "movies = titles[titles['titleType']=='movie']\n",
    "movies = list(movies['tconst'].unique())"
   ]
  },
  {
   "cell_type": "code",
   "execution_count": 4,
   "metadata": {},
   "outputs": [
    {
     "name": "stdout",
     "output_type": "stream",
     "text": [
      "573966\n"
     ]
    }
   ],
   "source": [
    "print(len(movies))"
   ]
  },
  {
   "cell_type": "code",
   "execution_count": 11,
   "metadata": {},
   "outputs": [
    {
     "name": "stdout",
     "output_type": "stream",
     "text": [
      "             nconst primaryName birthYear deathYear  \\\n",
      "292       nm0000293   Sean Bean      1959        \\N   \n",
      "2777559  nm11881915   Sean Bean        \\N        \\N   \n",
      "3122961  nm12232472   Sean Bean        \\N        \\N   \n",
      "\n",
      "                           primaryProfession  \\\n",
      "292      actor,producer,animation_department   \n",
      "2777559                             producer   \n",
      "3122961                      cinematographer   \n",
      "\n",
      "                                  knownForTitles  \n",
      "292      tt1181791,tt0120737,tt0167261,tt0944947  \n",
      "2777559                                tt2107721  \n",
      "3122961                                tt0852584  \n"
     ]
    }
   ],
   "source": [
    "print(names[names['primaryName']=='Sean Bean'])"
   ]
  },
  {
   "cell_type": "code",
   "execution_count": 5,
   "metadata": {},
   "outputs": [],
   "source": [
    "##get a list of movies based on a rating threshold and year threshold\n",
    "def filterMovies(ratingThreshold,yearThreshold,dfratings,dftitles):\n",
    "    avgVotes = np.mean(df_ratings['numVotes'])\n",
    "    qualifiedMovies = []\n",
    "    len(df_ratings)\n",
    "    boolean_series = dfratings.tconst.isin(movies)\n",
    "    dfratings = dfratings[boolean_series]\n",
    "    for row in dfratings.iterrows():\n",
    "        if row[1]['averageRating'] >= ratingThreshold and row[1]['numVotes'] >= avgVotes:\n",
    "            qualifiedMovies.append(row[1]['tconst'])\n",
    "    qualifiedMoviesFinal = []\n",
    "    for movie in qualifiedMovies:\n",
    "        year = (list(dftitles[dftitles['tconst']==movie]['startYear'])[0])\n",
    "        if type(year) == str:\n",
    "            year = int(year)\n",
    "        if year >= yearThreshold:\n",
    "            qualifiedMoviesFinal.append(movie)\n",
    "    return qualifiedMoviesFinal"
   ]
  },
  {
   "cell_type": "code",
   "execution_count": 6,
   "metadata": {},
   "outputs": [
    {
     "ename": "NameError",
     "evalue": "name 'qualifiedMovies' is not defined",
     "output_type": "error",
     "traceback": [
      "\u001b[1;31m---------------------------------------------------------------------------\u001b[0m",
      "\u001b[1;31mNameError\u001b[0m                                 Traceback (most recent call last)",
      "\u001b[1;32m<ipython-input-6-aa5a07eac3f4>\u001b[0m in \u001b[0;36m<module>\u001b[1;34m\u001b[0m\n\u001b[1;32m----> 1\u001b[1;33m \u001b[0mprint\u001b[0m\u001b[1;33m(\u001b[0m\u001b[0mlen\u001b[0m\u001b[1;33m(\u001b[0m\u001b[0mqualifiedMovies\u001b[0m\u001b[1;33m)\u001b[0m\u001b[1;33m)\u001b[0m\u001b[1;33m\u001b[0m\u001b[1;33m\u001b[0m\u001b[0m\n\u001b[0m",
      "\u001b[1;31mNameError\u001b[0m: name 'qualifiedMovies' is not defined"
     ]
    }
   ],
   "source": [
    "print(len(qualifiedMovies))"
   ]
  },
  {
   "cell_type": "code",
   "execution_count": 7,
   "metadata": {},
   "outputs": [
    {
     "name": "stdout",
     "output_type": "stream",
     "text": [
      "2468\n"
     ]
    }
   ],
   "source": [
    "qualifiedMovies = filterMovies(7.5,2000,df_ratings,titles)\n",
    "print(len(qualifiedMovies))"
   ]
  },
  {
   "cell_type": "code",
   "execution_count": 8,
   "metadata": {},
   "outputs": [],
   "source": [
    "#find the frequent actors in the list of movies that meets the support threshold\n",
    "def findFreqActors(qMovies,supportThreshold):\n",
    "    count = 0\n",
    "    freqActors = dict()\n",
    "    for chunk in pd.read_csv('data/principals.tsv' ,sep='\\t', chunksize = 1000000, usecols = ['tconst','category','nconst']):\n",
    "        chunk = chunk[chunk['category']=='actor']\n",
    "        chunk = chunk.groupby('tconst')\n",
    "        for name, group in chunk:\n",
    "            if name not in qMovies:\n",
    "                continue\n",
    "            else:\n",
    "                actors = group['nconst'].unique()\n",
    "                for actor in actors:\n",
    "                    if actor in freqActors:\n",
    "                        freqActors[actor][0] += 1\n",
    "                        if name in qMovies:\n",
    "                            freqActors[actor][1].append(name)\n",
    "                    else:\n",
    "                        freqActors[actor] = [1,[name]]\n",
    "    freqActorsFinal = dict()\n",
    "    for actor in freqActors:\n",
    "        if freqActors[actor][0] >= supportThreshold:\n",
    "            freqActorsFinal[actor] = freqActors[actor]\n",
    "    return freqActors"
   ]
  },
  {
   "cell_type": "code",
   "execution_count": 9,
   "metadata": {},
   "outputs": [],
   "source": [
    "freqActors = findFreqActors(qualifiedMovies,2)"
   ]
  },
  {
   "cell_type": "code",
   "execution_count": 10,
   "metadata": {},
   "outputs": [
    {
     "name": "stdout",
     "output_type": "stream",
     "text": [
      "3423\n"
     ]
    }
   ],
   "source": [
    "print(len(freqActors))"
   ]
  },
  {
   "cell_type": "code",
   "execution_count": 24,
   "metadata": {},
   "outputs": [
    {
     "name": "stdout",
     "output_type": "stream",
     "text": [
      "[2, ['tt0326306', 'tt0372183']]\n",
      "[2, ['tt0120737', 'tt5198068']]\n"
     ]
    }
   ],
   "source": [
    "print(freqActors['nm0004051'])\n",
    "print(freqActors['nm0000293'])"
   ]
  },
  {
   "cell_type": "code",
   "execution_count": null,
   "metadata": {},
   "outputs": [],
   "source": []
  },
  {
   "cell_type": "code",
   "execution_count": 39,
   "metadata": {},
   "outputs": [],
   "source": [
    "def findPairs():\n",
    "    freq_pairs = dict()\n",
    "    for chunk in pd.read_csv('data/principals.tsv' ,sep='\\t', chunksize = 1000000, usecols = ['tconst','category','nconst']):\n",
    "        chunk = chunk[chunk['category']=='actor']\n",
    "        chunk = chunk.groupby('tconst')\n",
    "        for name, group in chunk:\n",
    "            #print(name)\n",
    "            if name not in qualifiedMovies:\n",
    "                continue\n",
    "            else:\n",
    "                freqActorsGroup = [actor for actor in group['nconst'] if actor in freqActors]\n",
    "                freqPairsGroup = list(itertools.combinations(freqActorsGroup,2))\n",
    "                for pair in freqPairsGroup:\n",
    "                    if pair in freq_pairs:\n",
    "                        freq_pairs[pair][0] += 1\n",
    "                        freq_pairs[pair][1].append(name)\n",
    "                    else:\n",
    "                        freq_pairs[pair] = [1,[name]]\n",
    "        freq_pairs = dict(sorted(freq_pairs.items(), key=lambda item: item[1],reverse=True))\n",
    "        freq_pairsFinal = dict()\n",
    "        for pair in freq_pairs:\n",
    "            if (pair[1],pair[0]) not in freq_pairsFinal:\n",
    "                freq_pairsFinal[pair] = freq_pairs[pair]\n",
    "    return freq_pairsFinal"
   ]
  },
  {
   "cell_type": "code",
   "execution_count": null,
   "metadata": {},
   "outputs": [],
   "source": [
    "for actor in freqActors:\n",
    "    for actor2 in freqActors:\n",
    "        if actor == actor2 or (actor2,actor) in freqPairs:\n",
    "            continue:\n",
    "        else:\n",
    "            movies_together = []\n",
    "            for movie in freqActors[actor][1]:\n",
    "                if movie in freqActors[actor2][1]:\n",
    "                    movies_together.append(movie)\n",
    "            for movie in freqActors[actor2][1]:\n",
    "                if movie in freqActors[actor][1] and movie not in movies_together:\n",
    "                    movies_together.append(movie)\n",
    "            freqPairs[(actor,actor2)] = [len(movies_together),movies_together]\n",
    "        "
   ]
  },
  {
   "cell_type": "code",
   "execution_count": 40,
   "metadata": {
    "scrolled": false
   },
   "outputs": [],
   "source": [
    "freq_pairs = findPairs()"
   ]
  },
  {
   "cell_type": "code",
   "execution_count": 41,
   "metadata": {},
   "outputs": [
    {
     "name": "stdout",
     "output_type": "stream",
     "text": [
      "4827\n"
     ]
    }
   ],
   "source": [
    "print(len(freq_pairs))\n",
    "freqpairsfinal = dict()\n",
    "for pair in freq_pairs:\n",
    "    if (freq_pairs[pair][0] >= 2):\n",
    "        freqpairsfinal[pair] = freq_pairs[pair]\n",
    "    #print(getName(pair[0]),getName(pair[1]))\n",
    "    "
   ]
  },
  {
   "cell_type": "code",
   "execution_count": 42,
   "metadata": {},
   "outputs": [
    {
     "name": "stdout",
     "output_type": "stream",
     "text": [
      "93\n"
     ]
    }
   ],
   "source": [
    "print(len(freqpairsfinal))"
   ]
  },
  {
   "cell_type": "code",
   "execution_count": 43,
   "metadata": {},
   "outputs": [],
   "source": [
    "def getName(nconst):\n",
    "    return list(names[names['nconst']==nconst]['primaryName'])[0] \n",
    "def getSoloMovies(name1,name2,pairsDict,soloDict):\n",
    "    name1solomovies = []\n",
    "    name2solomovies = []\n",
    "    for movie in soloDict[name1][1]:\n",
    "        if movie not in pairsDict[(name1,name2)][1]:\n",
    "            name1solomovies.append(movie)\n",
    "    for movie in soloDict[name2][1]:\n",
    "        if movie not in pairsDict[(name1,name2)][1]:\n",
    "            name2solomovies.append(movie)\n",
    "    for movie in name1solomovies:\n",
    "        if movie in name2solomovies:\n",
    "            pairsDict[(name1,name2)][1].append(movie)\n",
    "            name1solomovies.remove(movie)\n",
    "            name2solomovies.remove(movie)\n",
    "    return name1solomovies,name2solomovies\n",
    "def getRatings(movies):\n",
    "    ratings = []\n",
    "    if len(movies) == 0:\n",
    "        return 0\n",
    "    for movie in movies:\n",
    "        if len(list(df_ratings[df_ratings['tconst']== movie]['averageRating']))>0:\n",
    "            ratings.append(list(df_ratings[df_ratings['tconst']== movie]['averageRating'])[0])\n",
    "    rating = np.mean(ratings)\n",
    "    return rating"
   ]
  },
  {
   "cell_type": "code",
   "execution_count": 44,
   "metadata": {
    "scrolled": true
   },
   "outputs": [
    {
     "name": "stdout",
     "output_type": "stream",
     "text": [
      "['tt1183907', 'tt2375559', 'tt4727512']\n",
      "['tt0312859', 'tt0339252', 'tt0376127', 'tt0422320', 'tt0423470', 'tt0455663', 'tt0455829', 'tt0843326', 'tt1034053', 'tt1526875', 'tt5039054', 'tt7758160', 'tt9477520']\n",
      "['tt0366840', 'tt0471571', 'tt0816258', 'tt1582519', 'tt2198161', 'tt6980546']\n",
      "For the duo Mahesh Babu , Prakash RajTheir rating of 7.816666666666667was betteer than both of their solo ratings: 7.8, 7.976923076923077\n",
      "['tt3006576']\n",
      "['tt2358592', 'tt7109900']\n",
      "['tt3394420', 'tt4909506', 'tt6054758', 'tt7998242']\n",
      "For the duo Rakshit Shetty , Achyuth KumarTheir rating of 8.325000000000001was betteer than both of their solo ratings: 8.0, 8.15\n",
      "['tt3646946', 'tt5526028', 'tt6335734', 'tt6728390']\n",
      "['tt2210479', 'tt2358913']\n",
      "['tt3138698', 'tt5084196', 'tt5084198']\n",
      "For the duo Hiroshi Kamiya , Takahiro SakuraiTheir rating of 7.766666666666667was betteer than both of their solo ratings: 7.75, 7.75\n",
      "['tt0371746', 'tt0373469', 'tt0443706', 'tt0988045', 'tt1515091']\n",
      "['tt1843866', 'tt4481414', 'tt8946378']\n",
      "['tt0848228', 'tt4154756', 'tt4154796', 'tt3498820']\n",
      "For the duo Robert Downey Jr. , Chris EvansTheir rating of 8.149999999999999was betteer than both of their solo ratings: 7.640000000000001, 7.733333333333334\n",
      "['tt0371746', 'tt0373469', 'tt0848228', 'tt0988045', 'tt1515091', 'tt3498820']\n",
      "['tt0314412', 'tt0369339', 'tt1130884', 'tt1895587', 'tt3501632', 'tt9071322']\n",
      "['tt0443706', 'tt4154756', 'tt4154796']\n",
      "For the duo Robert Downey Jr. , Mark RuffaloTheir rating of 8.166666666666666was betteer than both of their solo ratings: 7.716666666666666, 7.8\n",
      "['tt0144084', 'tt0361862', 'tt0381849', 'tt0964517', 'tt1345836', 'tt1410063', 'tt1596363', 'tt1950186']\n",
      "['tt0206634', 'tt0327137', 'tt2802144']\n",
      "['tt0372784', 'tt0468569', 'tt0482571']\n",
      "For the duo Christian Bale , Michael CaineTheir rating of 8.566666666666666was betteer than both of their solo ratings: 7.8375, 7.7\n",
      "['tt0385002']\n",
      "['tt0486655', 'tt0903624', 'tt1170358', 'tt1877832']\n",
      "['tt0120737', 'tt0167260', 'tt0167261']\n",
      "For the duo Elijah Wood , Ian McKellenTheir rating of 8.8was betteer than both of their solo ratings: 7.5, 7.775\n",
      "['tt0385002']\n",
      "['tt0325980']\n",
      "['tt0120737', 'tt0167260', 'tt0167261']\n",
      "For the duo Elijah Wood , Orlando BloomTheir rating of 8.8was betteer than both of their solo ratings: 7.5, 8.0\n",
      "['tt0486655', 'tt0903624', 'tt1170358', 'tt1877832']\n",
      "['tt0325980']\n",
      "['tt0120737', 'tt0167260', 'tt0167261']\n",
      "For the duo Ian McKellen , Orlando BloomTheir rating of 8.8was betteer than both of their solo ratings: 7.775, 8.0\n",
      "['tt1832382']\n",
      "['tt7901798']\n",
      "['tt5460658', 'tt9817070']\n",
      "For the duo Payman Maadi , Navid MohammadzadehTheir rating of 8.05was betteer than both of their solo ratings: 8.3, 7.6\n",
      "['tt0986329', 'tt8602654']\n",
      "['tt2358592', 'tt3394420', 'tt6054758', 'tt7998242']\n",
      "['tt4909506', 'tt7109900']\n",
      "For the duo Anant Nag , Achyuth KumarTheir rating of 8.35was betteer than both of their solo ratings: 8.45, 8.225000000000001\n",
      "['tt8721556']\n",
      "['tt5458088']\n",
      "['tt4186118', 'tt7231194']\n",
      "For the duo Chemban Vinod Jose , VinayakanTheir rating of 8.0was betteer than both of their solo ratings: 7.5, 8.1\n",
      "['tt0371746', 'tt0373469', 'tt0443706', 'tt0848228', 'tt0988045', 'tt1515091', 'tt3498820']\n",
      "['tt1979320', 'tt3501632']\n",
      "['tt4154756', 'tt4154796']\n",
      "For the duo Robert Downey Jr. , Chris HemsworthTheir rating of 8.4was betteer than both of their solo ratings: 7.714285714285714, 8.0\n",
      "['tt0242572', 'tt0270321', 'tt0425162', 'tt0483131', 'tt0887769', 'tt0973783', 'tt1573478', 'tt1695800', 'tt3996396', 'tt7581552', 'tt7738784']\n",
      "['tt3506970']\n",
      "['tt3885736', 'tt4928620']\n",
      "For the duo Mammootty , Joy MathewTheir rating of 8.15was betteer than both of their solo ratings: 8.045454545454547, 7.7\n",
      "['tt1979320']\n",
      "['tt0314412', 'tt0369339', 'tt0443706', 'tt1130884', 'tt1895587', 'tt9071322']\n",
      "['tt3501632', 'tt4154756', 'tt4154796']\n",
      "For the duo Chris Hemsworth , Mark RuffaloTheir rating of 8.233333333333334was betteer than both of their solo ratings: 8.1, 7.766666666666667\n",
      "['tt12677092', 'tt13206926', 'tt2786278', 'tt3668162', 'tt4186118', 'tt4851630', 'tt5906392', 'tt6315524', 'tt7019942', 'tt8188872', 'tt8286926']\n",
      "['tt10717738', 'tt11230868', 'tt5376232']\n",
      "['tt3198468', 'tt8413338']\n",
      "For the duo Fahadh Faasil , Sreenath BhasiTheir rating of 8.1was betteer than both of their solo ratings: 7.99090909090909, 7.733333333333333\n",
      "['tt1979319']\n",
      "['tt0266308', 'tt0758742']\n",
      "['tt3029556', 'tt3029558']\n",
      "For the duo Takeru Satoh , Tatsuya FujiwaraTheir rating of 7.6was betteer than both of their solo ratings: 7.5, 7.65\n",
      "['tt0843328']\n",
      "['tt1613040', 'tt3848892', 'tt6299040']\n",
      "['tt2631186', 'tt4849438']\n",
      "For the duo Prabhas , Rana DaggubatiTheir rating of 8.1was betteer than both of their solo ratings: 7.6, 7.866666666666667\n",
      "['tt3029558']\n",
      "['tt0872022']\n",
      "['tt1979319', 'tt3029556']\n",
      "For the duo Takeru Satoh , Munetaka AokiTheir rating of 7.55was betteer than both of their solo ratings: 7.6, 7.5\n",
      "['tt0466460', 'tt1324059', 'tt4169250', 'tt5461944']\n",
      "['tt0362696', 'tt2140465', 'tt5713232', 'tt7180544']\n",
      "['tt1280558', 'tt2377938']\n",
      "For the duo Anupam Kher , Jimmy SheirgillTheir rating of 8.05was betteer than both of their solo ratings: 7.824999999999999, 7.699999999999999\n",
      "['tt0405159', 'tt2386490']\n",
      "['tt0377752', 'tt0416449']\n",
      "['tt0892769', 'tt1646971']\n",
      "For the duo Jay Baruchel , Gerard ButlerTheir rating of 7.949999999999999was betteer than both of their solo ratings: 7.8, 7.65\n",
      "['tt1034053', 'tt11322920', 'tt2078644', 'tt2624704', 'tt2717168', 'tt2924472', 'tt3124456', 'tt4888834', 'tt7523010']\n",
      "['tt1922545', 'tt9900782']\n",
      "['tt0867145', 'tt2476214']\n",
      "For the duo Prithviraj Sukumaran , NarainTheir rating of 8.05was betteer than both of their solo ratings: 7.833333333333333, 8.25\n",
      "['tt0339252']\n",
      "['tt1582519']\n",
      "['tt0858492', 'tt1579592']\n",
      "For the duo Ravi Teja , BrahmanandamTheir rating of 7.75was betteer than both of their solo ratings: 7.7, 7.6\n",
      "['tt0366840', 'tt0471571', 'tt1183907', 'tt1582519', 'tt2198161', 'tt4727512', 'tt6980546']\n",
      "['tt0258490', 'tt0367495', 'tt0888503', 'tt10324144', 'tt1857670', 'tt3569782', 'tt3996396', 'tt4987556', 'tt5310090', 'tt6076366', 'tt6747242']\n",
      "['tt0816258', 'tt2375559']\n",
      "For the duo Mahesh Babu , NassarTheir rating of 8.0was betteer than both of their solo ratings: 7.757142857142858, 8.08181818181818\n",
      "['tt0296574', 'tt0319736', 'tt0373856', 'tt0405266', 'tt4430212']\n",
      "['tt0292490', 'tt0299108', 'tt0347304', 'tt0352314']\n",
      "['tt0488414', 'tt8108274']\n",
      "For the duo Ajay Devgn , Saif Ali KhanTheir rating of 7.85was betteer than both of their solo ratings: 7.94, 7.775\n",
      "['tt0374887']\n",
      "['tt0466460', 'tt2621000', 'tt6826438']\n",
      "['tt0456144', 'tt2338151']\n",
      "For the duo Sanjay Dutt , Boman IraniTheir rating of 8.1was betteer than both of their solo ratings: 8.1, 7.8\n",
      "['tt0375571', 'tt0405508', 'tt2624704', 'tt3569782', 'tt4047104']\n",
      "['tt0312859', 'tt0339252', 'tt0366840', 'tt0376127', 'tt0422320', 'tt0423470', 'tt0455829', 'tt0471571', 'tt0816258', 'tt1034053', 'tt1526875', 'tt1582519', 'tt2198161', 'tt5039054', 'tt6980546', 'tt7758160', 'tt9477520']\n",
      "['tt0455663', 'tt0843326']\n",
      "For the duo Siddharth , Prakash RajTheir rating of 7.949999999999999was betteer than both of their solo ratings: 7.959999999999999, 7.923529411764705\n",
      "['tt0459516', 'tt11581174', 'tt1821317', 'tt2072167', 'tt2355791', 'tt2359810', 'tt3822396', 'tt6734886', 'tt9477520']\n",
      "['tt0375878', 'tt0455829']\n",
      "['tt0375880', 'tt5959980']\n",
      "For the duo Dhanush , Daniel BalajiTheir rating of 8.2was betteer than both of their solo ratings: 8.022222222222222, 7.95\n",
      "['tt2338151']\n",
      "['tt0477857', 'tt2621000']\n",
      "['tt0374887', 'tt0456144']\n",
      "For the duo Sanjay Dutt , Arshad WarsiTheir rating of 8.1was betteer than both of their solo ratings: 8.1, 7.6\n",
      "['tt0242256', 'tt0299108', 'tt0312859', 'tt0357905', 'tt0375571', 'tt0499375', 'tt10189514', 'tt1187043', 'tt1266583', 'tt2140465', 'tt6148156', 'tt9319874']\n",
      "['tt0258490', 'tt0816258', 'tt0888503', 'tt10324144', 'tt1857670', 'tt2375559', 'tt3569782', 'tt3996396', 'tt4987556', 'tt6076366', 'tt6747242']\n",
      "['tt0367495', 'tt5310090']\n",
      "For the duo Madhavan , NassarTheir rating of 8.149999999999999was betteer than both of their solo ratings: 7.983333333333333, 8.054545454545455\n",
      "['tt0411469', 'tt0432047', 'tt1261047', 'tt1266583', 'tt3337550', 'tt3390572', 'tt6299040']\n",
      "['tt0352314']\n",
      "['tt0356982', 'tt0400234']\n"
     ]
    },
    {
     "name": "stdout",
     "output_type": "stream",
     "text": [
      "For the duo Kay Kay Menon , Aditya SrivastavTheir rating of 8.1was betteer than both of their solo ratings: 7.8, 7.5\n",
      "['tt0418455', 'tt0457655', 'tt10288566', 'tt1276419', 'tt2106476']\n",
      "['tt0386342']\n",
      "['tt0236027', 'tt11655202', 'tt0315543']\n",
      "For the duo Mads Mikkelsen , Nikolaj Lie KaasTheir rating of 7.7was betteer than both of their solo ratings: 7.82, 7.5\n",
      "['tt0386342']\n",
      "['tt0315543', 'tt0457655', 'tt10288566', 'tt11655202', 'tt1276419', 'tt2106476']\n",
      "['tt0236027', 'tt0418455']\n",
      "For the duo Ulrich Thomsen , Mads MikkelsenTheir rating of 7.75was betteer than both of their solo ratings: 7.5, 7.783333333333334\n",
      "['tt0120737', 'tt0385002']\n",
      "['tt0765443', 'tt3553976', 'tt6966692']\n",
      "['tt0167260', 'tt0167261']\n",
      "For the duo Elijah Wood , Viggo MortensenTheir rating of 8.8was betteer than both of their solo ratings: 8.15, 7.8999999999999995\n",
      "['tt0765443', 'tt3553976', 'tt6966692']\n",
      "['tt0120737', 'tt0325980']\n",
      "['tt0167260', 'tt0167261']\n",
      "For the duo Viggo Mortensen , Orlando BloomTheir rating of 8.8was betteer than both of their solo ratings: 7.8999999999999995, 8.4\n"
     ]
    }
   ],
   "source": [
    "for pair in freqpairsfinal:\n",
    "    movies1, movies2 = getSoloMovies(pair[0],pair[1],freqpairsfinal,freqActors)\n",
    "    ratings1 = getRatings(movies1)\n",
    "    ratings2 = getRatings(movies2)\n",
    "    ratings_together = getRatings(freqpairsfinal[pair][1])\n",
    "    betteralone1 = True\n",
    "    betteralone2 = True\n",
    "    bt1 = False\n",
    "    bt2 = False\n",
    "    bettertogether = False\n",
    "    if ratings_together >= ratings1:\n",
    "        betteralone1 = False\n",
    "        bt1 = True\n",
    "    if ratings_together >= ratings2:\n",
    "        betteralone2 = False\n",
    "        bt2 = True\n",
    "    if bt1 or bt2:\n",
    "        bettertogether = True\n",
    "    if bettertogether and ratings1 != 0 and ratings2 != 0:\n",
    "        print(movies1)\n",
    "        print(movies2)\n",
    "        print(freqpairsfinal[pair][1])\n",
    "        print(\"For the duo \" + getName(pair[0]) + \" , \" + getName(pair[1]) + \"Their rating of \" + str(ratings_together) + \"was betteer than both of their solo ratings: \" + str(ratings1) + \", \" + str(ratings2))\n"
   ]
  },
  {
   "cell_type": "code",
   "execution_count": 47,
   "metadata": {},
   "outputs": [
    {
     "data": {
      "text/html": [
       "<div>\n",
       "<style scoped>\n",
       "    .dataframe tbody tr th:only-of-type {\n",
       "        vertical-align: middle;\n",
       "    }\n",
       "\n",
       "    .dataframe tbody tr th {\n",
       "        vertical-align: top;\n",
       "    }\n",
       "\n",
       "    .dataframe thead th {\n",
       "        text-align: right;\n",
       "    }\n",
       "</style>\n",
       "<table border=\"1\" class=\"dataframe\">\n",
       "  <thead>\n",
       "    <tr style=\"text-align: right;\">\n",
       "      <th></th>\n",
       "      <th>tconst</th>\n",
       "      <th>titleType</th>\n",
       "      <th>primaryTitle</th>\n",
       "      <th>originalTitle</th>\n",
       "      <th>isAdult</th>\n",
       "      <th>startYear</th>\n",
       "      <th>endYear</th>\n",
       "      <th>runtimeMinutes</th>\n",
       "      <th>genres</th>\n",
       "    </tr>\n",
       "  </thead>\n",
       "  <tbody>\n",
       "    <tr>\n",
       "      <th>105755</th>\n",
       "      <td>tt0108108</td>\n",
       "      <td>tvEpisode</td>\n",
       "      <td>Sharpe's Rifles</td>\n",
       "      <td>Sharpe's Rifles</td>\n",
       "      <td>0</td>\n",
       "      <td>1993</td>\n",
       "      <td>\\N</td>\n",
       "      <td>102</td>\n",
       "      <td>Adventure</td>\n",
       "    </tr>\n",
       "  </tbody>\n",
       "</table>\n",
       "</div>"
      ],
      "text/plain": [
       "           tconst  titleType     primaryTitle    originalTitle isAdult  \\\n",
       "105755  tt0108108  tvEpisode  Sharpe's Rifles  Sharpe's Rifles       0   \n",
       "\n",
       "       startYear endYear runtimeMinutes     genres  \n",
       "105755      1993      \\N            102  Adventure  "
      ]
     },
     "execution_count": 47,
     "metadata": {},
     "output_type": "execute_result"
    }
   ],
   "source": [
    "titles[titles['tconst']=='tt0108108']"
   ]
  },
  {
   "cell_type": "code",
   "execution_count": 15,
   "metadata": {},
   "outputs": [
    {
     "name": "stderr",
     "output_type": "stream",
     "text": [
      "C:\\Users\\Matt\\anaconda3\\lib\\site-packages\\IPython\\core\\interactiveshell.py:3063: DtypeWarning: Columns (4,5) have mixed types.Specify dtype option on import or set low_memory=False.\n",
      "  interactivity=interactivity, compiler=compiler, result=result)\n"
     ]
    }
   ],
   "source": []
  },
  {
   "cell_type": "code",
   "execution_count": null,
   "metadata": {},
   "outputs": [],
   "source": []
  },
  {
   "cell_type": "code",
   "execution_count": null,
   "metadata": {},
   "outputs": [],
   "source": []
  },
  {
   "cell_type": "code",
   "execution_count": null,
   "metadata": {},
   "outputs": [],
   "source": []
  }
 ],
 "metadata": {
  "kernelspec": {
   "display_name": "Python 3",
   "language": "python",
   "name": "python3"
  },
  "language_info": {
   "codemirror_mode": {
    "name": "ipython",
    "version": 3
   },
   "file_extension": ".py",
   "mimetype": "text/x-python",
   "name": "python",
   "nbconvert_exporter": "python",
   "pygments_lexer": "ipython3",
   "version": "3.7.6"
  }
 },
 "nbformat": 4,
 "nbformat_minor": 4
}
