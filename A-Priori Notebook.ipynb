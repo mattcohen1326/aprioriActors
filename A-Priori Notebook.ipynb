{
 "cells": [
  {
   "cell_type": "code",
   "execution_count": 9,
   "metadata": {},
   "outputs": [],
   "source": [
    "#Right now we could maybe widdle down to movies above a certain rating + number of ratings"
   ]
  },
  {
   "cell_type": "code",
   "execution_count": 10,
   "metadata": {},
   "outputs": [],
   "source": [
    "import pandas as pd\n",
    "import csv\n",
    "import time\n",
    "import numpy as np\n",
    "import itertools"
   ]
  },
  {
   "cell_type": "code",
   "execution_count": 2,
   "metadata": {},
   "outputs": [
    {
     "name": "stdout",
     "output_type": "stream",
     "text": [
      "955.1516708090234\n",
      "6.900688579030731\n"
     ]
    }
   ],
   "source": [
    "\n",
    "df_ratings = pd.read_csv('data/ratings.tsv',sep = '\\t') #read in the ratings data\n",
    "print(np.mean(df_ratings['numVotes']))\n",
    "print(np.mean(df_ratings['averageRating']))\n",
    "avgVotes = np.mean(df_ratings['numVotes'])\n",
    "df_ratings.head()\n",
    "qualifiedMovies = []\n",
    "len(df_ratings)\n",
    "for row in df_ratings.iterrows():\n",
    "    if row[1]['averageRating'] >= 8.5 and row[1]['numVotes'] >= avgVotes:\n",
    "        qualifiedMovies.append(row[1]['tconst'])\n",
    "    "
   ]
  },
  {
   "cell_type": "code",
   "execution_count": 3,
   "metadata": {},
   "outputs": [
    {
     "name": "stdout",
     "output_type": "stream",
     "text": [
      "7722\n"
     ]
    }
   ],
   "source": [
    "print(len(qualifiedMovies))"
   ]
  },
  {
   "cell_type": "code",
   "execution_count": 50,
   "metadata": {},
   "outputs": [],
   "source": [
    "\n",
    "#[lambda x: x['tconst'] in qualifiedMovies]"
   ]
  },
  {
   "cell_type": "code",
   "execution_count": null,
   "metadata": {},
   "outputs": [],
   "source": []
  },
  {
   "cell_type": "code",
   "execution_count": 5,
   "metadata": {},
   "outputs": [],
   "source": [
    "count = 0\n",
    "freqActors = dict()\n",
    "for chunk in pd.read_csv('data/principals.tsv' ,sep='\\t', chunksize = 1000000, usecols = ['tconst','category','nconst']):\n",
    "    chunk = chunk[chunk['category']=='actor']\n",
    "    chunk = chunk.groupby('tconst')\n",
    "    for name, group in chunk:\n",
    "        if name not in qualifiedMovies:\n",
    "            continue\n",
    "        else:\n",
    "            actors = group['nconst'].unique()\n",
    "            for actor in actors:\n",
    "                if actor in freqActors:\n",
    "                    freqActors[actor] += 1\n",
    "                else:\n",
    "                    freqActors[actor] = 1\n",
    "    "
   ]
  },
  {
   "cell_type": "code",
   "execution_count": 14,
   "metadata": {},
   "outputs": [
    {
     "name": "stdout",
     "output_type": "stream",
     "text": [
      "5199\n"
     ]
    }
   ],
   "source": []
  },
  {
   "cell_type": "code",
   "execution_count": 6,
   "metadata": {},
   "outputs": [],
   "source": [
    "freqActorsFinal = dict()\n",
    "for actor in freqActors:\n",
    "    if freqActors[actor] >= 5:\n",
    "        freqActorsFinal[actor] = freqActors[actor]"
   ]
  },
  {
   "cell_type": "code",
   "execution_count": 7,
   "metadata": {},
   "outputs": [
    {
     "name": "stdout",
     "output_type": "stream",
     "text": [
      "705\n"
     ]
    }
   ],
   "source": [
    "print(len(freqActorsFinal))"
   ]
  },
  {
   "cell_type": "code",
   "execution_count": 12,
   "metadata": {},
   "outputs": [],
   "source": [
    "freq_pairs = dict()\n",
    "for chunk in pd.read_csv('data/principals.tsv' ,sep='\\t', chunksize = 1000000, usecols = ['tconst','category','nconst']):\n",
    "    chunk = chunk[chunk['category']=='actor']\n",
    "    chunk = chunk.groupby('tconst')\n",
    "    for name, group in chunk:\n",
    "        freqActorsGroup = [actor for actor in group['nconst'] if actor in freqActorsFinal]\n",
    "        freqPairsGroup = list(itertools.combinations(freqActorsGroup,2))\n",
    "        for pair in freqPairsGroup:\n",
    "            if pair in freq_pairs:\n",
    "                freq_pairs[pair] += 1\n",
    "            else:\n",
    "                freq_pairs[pair] = 1"
   ]
  },
  {
   "cell_type": "code",
   "execution_count": 24,
   "metadata": {},
   "outputs": [
    {
     "name": "stdout",
     "output_type": "stream",
     "text": [
      "('nm0532235', 'nm0001293')\n"
     ]
    }
   ],
   "source": [
    "for pair in freq_pairs:\n",
    "    if freq_pairs[pair] >= 375:\n",
    "        print(pair)\n"
   ]
  },
  {
   "cell_type": "code",
   "execution_count": 29,
   "metadata": {},
   "outputs": [
    {
     "name": "stderr",
     "output_type": "stream",
     "text": [
      "C:\\Users\\Matt\\anaconda3\\lib\\site-packages\\IPython\\core\\interactiveshell.py:3063: DtypeWarning: Columns (4,5) have mixed types.Specify dtype option on import or set low_memory=False.\n",
      "  interactivity=interactivity, compiler=compiler, result=result)\n"
     ]
    }
   ],
   "source": [
    "names = pd.read_csv('data/names.tsv',sep = '\\t')\n",
    "titles = pd.read_csv('data/titles.tsv',sep = '\\t')"
   ]
  },
  {
   "cell_type": "code",
   "execution_count": 31,
   "metadata": {},
   "outputs": [
    {
     "data": {
      "text/html": [
       "<div>\n",
       "<style scoped>\n",
       "    .dataframe tbody tr th:only-of-type {\n",
       "        vertical-align: middle;\n",
       "    }\n",
       "\n",
       "    .dataframe tbody tr th {\n",
       "        vertical-align: top;\n",
       "    }\n",
       "\n",
       "    .dataframe thead th {\n",
       "        text-align: right;\n",
       "    }\n",
       "</style>\n",
       "<table border=\"1\" class=\"dataframe\">\n",
       "  <thead>\n",
       "    <tr style=\"text-align: right;\">\n",
       "      <th></th>\n",
       "      <th>nconst</th>\n",
       "      <th>primaryName</th>\n",
       "      <th>birthYear</th>\n",
       "      <th>deathYear</th>\n",
       "      <th>primaryProfession</th>\n",
       "      <th>knownForTitles</th>\n",
       "    </tr>\n",
       "  </thead>\n",
       "  <tbody>\n",
       "    <tr>\n",
       "      <th>1291</th>\n",
       "      <td>nm0001293</td>\n",
       "      <td>Seth Green</td>\n",
       "      <td>1974</td>\n",
       "      <td>\\N</td>\n",
       "      <td>actor,music_department,producer</td>\n",
       "      <td>tt0118655,tt0437745,tt0317740,tt0320244</td>\n",
       "    </tr>\n",
       "  </tbody>\n",
       "</table>\n",
       "</div>"
      ],
      "text/plain": [
       "         nconst primaryName birthYear deathYear  \\\n",
       "1291  nm0001293  Seth Green      1974        \\N   \n",
       "\n",
       "                    primaryProfession                           knownForTitles  \n",
       "1291  actor,music_department,producer  tt0118655,tt0437745,tt0317740,tt0320244  "
      ]
     },
     "execution_count": 31,
     "metadata": {},
     "output_type": "execute_result"
    }
   ],
   "source": [
    "names[names['nconst']=='nm0532235']\n",
    "names[names['nconst']=='nm0001293']\n",
    "#titles[titles['tconst']== 'tt0118655']"
   ]
  },
  {
   "cell_type": "code",
   "execution_count": 33,
   "metadata": {},
   "outputs": [
    {
     "data": {
      "text/plain": [
       "array(['short', 'movie', 'tvShort', 'tvMovie', 'tvSeries', 'tvEpisode',\n",
       "       'tvMiniSeries', 'tvSpecial', 'video', 'videoGame', 'episode'],\n",
       "      dtype=object)"
      ]
     },
     "execution_count": 33,
     "metadata": {},
     "output_type": "execute_result"
    }
   ],
   "source": [
    "titles['titleType'].unique()\n"
   ]
  },
  {
   "cell_type": "code",
   "execution_count": null,
   "metadata": {},
   "outputs": [],
   "source": []
  }
 ],
 "metadata": {
  "kernelspec": {
   "display_name": "Python 3",
   "language": "python",
   "name": "python3"
  },
  "language_info": {
   "codemirror_mode": {
    "name": "ipython",
    "version": 3
   },
   "file_extension": ".py",
   "mimetype": "text/x-python",
   "name": "python",
   "nbconvert_exporter": "python",
   "pygments_lexer": "ipython3",
   "version": "3.7.6"
  }
 },
 "nbformat": 4,
 "nbformat_minor": 4
}
