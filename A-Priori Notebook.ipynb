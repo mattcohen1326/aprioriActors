{
 "cells": [
  {
   "cell_type": "code",
   "execution_count": 9,
   "metadata": {},
   "outputs": [],
   "source": [
    "#Right now we could maybe widdle down to movies above a certain rating + number of ratings"
   ]
  },
  {
   "cell_type": "code",
   "execution_count": 2,
   "metadata": {},
   "outputs": [],
   "source": [
    "import pandas as pd\n",
    "import csv\n",
    "import time\n",
    "import numpy as np\n",
    "import itertools"
   ]
  },
  {
   "cell_type": "code",
   "execution_count": 104,
   "metadata": {},
   "outputs": [
    {
     "name": "stderr",
     "output_type": "stream",
     "text": [
      "C:\\Users\\Matt\\anaconda3\\lib\\site-packages\\IPython\\core\\interactiveshell.py:3063: DtypeWarning: Columns (4,5) have mixed types.Specify dtype option on import or set low_memory=False.\n",
      "  interactivity=interactivity, compiler=compiler, result=result)\n"
     ]
    }
   ],
   "source": [
    "df_ratings = pd.read_csv('data/ratings.tsv',sep = '\\t')\n",
    "titles = pd.read_csv('data/titles.tsv',sep='\\t')\n",
    "names = pd.read_csv('data/names.tsv',sep = '\\t')\n",
    "movies = titles[titles['titleType']=='movie']\n",
    "movies = list(movies['tconst'].unique())"
   ]
  },
  {
   "cell_type": "code",
   "execution_count": 105,
   "metadata": {},
   "outputs": [
    {
     "data": {
      "text/html": [
       "<div>\n",
       "<style scoped>\n",
       "    .dataframe tbody tr th:only-of-type {\n",
       "        vertical-align: middle;\n",
       "    }\n",
       "\n",
       "    .dataframe tbody tr th {\n",
       "        vertical-align: top;\n",
       "    }\n",
       "\n",
       "    .dataframe thead th {\n",
       "        text-align: right;\n",
       "    }\n",
       "</style>\n",
       "<table border=\"1\" class=\"dataframe\">\n",
       "  <thead>\n",
       "    <tr style=\"text-align: right;\">\n",
       "      <th></th>\n",
       "      <th>nconst</th>\n",
       "      <th>primaryName</th>\n",
       "      <th>birthYear</th>\n",
       "      <th>deathYear</th>\n",
       "      <th>primaryProfession</th>\n",
       "      <th>knownForTitles</th>\n",
       "    </tr>\n",
       "  </thead>\n",
       "  <tbody>\n",
       "    <tr>\n",
       "      <th>0</th>\n",
       "      <td>nm0000001</td>\n",
       "      <td>Fred Astaire</td>\n",
       "      <td>1899</td>\n",
       "      <td>1987</td>\n",
       "      <td>soundtrack,actor,miscellaneous</td>\n",
       "      <td>tt0050419,tt0053137,tt0072308,tt0031983</td>\n",
       "    </tr>\n",
       "    <tr>\n",
       "      <th>1</th>\n",
       "      <td>nm0000002</td>\n",
       "      <td>Lauren Bacall</td>\n",
       "      <td>1924</td>\n",
       "      <td>2014</td>\n",
       "      <td>actress,soundtrack</td>\n",
       "      <td>tt0117057,tt0037382,tt0071877,tt0038355</td>\n",
       "    </tr>\n",
       "    <tr>\n",
       "      <th>2</th>\n",
       "      <td>nm0000003</td>\n",
       "      <td>Brigitte Bardot</td>\n",
       "      <td>1934</td>\n",
       "      <td>\\N</td>\n",
       "      <td>actress,soundtrack,music_department</td>\n",
       "      <td>tt0049189,tt0057345,tt0054452,tt0056404</td>\n",
       "    </tr>\n",
       "    <tr>\n",
       "      <th>3</th>\n",
       "      <td>nm0000004</td>\n",
       "      <td>John Belushi</td>\n",
       "      <td>1949</td>\n",
       "      <td>1982</td>\n",
       "      <td>actor,soundtrack,writer</td>\n",
       "      <td>tt0077975,tt0072562,tt0080455,tt0078723</td>\n",
       "    </tr>\n",
       "    <tr>\n",
       "      <th>4</th>\n",
       "      <td>nm0000005</td>\n",
       "      <td>Ingmar Bergman</td>\n",
       "      <td>1918</td>\n",
       "      <td>2007</td>\n",
       "      <td>writer,director,actor</td>\n",
       "      <td>tt0050976,tt0050986,tt0060827,tt0069467</td>\n",
       "    </tr>\n",
       "  </tbody>\n",
       "</table>\n",
       "</div>"
      ],
      "text/plain": [
       "      nconst      primaryName birthYear deathYear  \\\n",
       "0  nm0000001     Fred Astaire      1899      1987   \n",
       "1  nm0000002    Lauren Bacall      1924      2014   \n",
       "2  nm0000003  Brigitte Bardot      1934        \\N   \n",
       "3  nm0000004     John Belushi      1949      1982   \n",
       "4  nm0000005   Ingmar Bergman      1918      2007   \n",
       "\n",
       "                     primaryProfession  \\\n",
       "0       soundtrack,actor,miscellaneous   \n",
       "1                   actress,soundtrack   \n",
       "2  actress,soundtrack,music_department   \n",
       "3              actor,soundtrack,writer   \n",
       "4                writer,director,actor   \n",
       "\n",
       "                            knownForTitles  \n",
       "0  tt0050419,tt0053137,tt0072308,tt0031983  \n",
       "1  tt0117057,tt0037382,tt0071877,tt0038355  \n",
       "2  tt0049189,tt0057345,tt0054452,tt0056404  \n",
       "3  tt0077975,tt0072562,tt0080455,tt0078723  \n",
       "4  tt0050976,tt0050986,tt0060827,tt0069467  "
      ]
     },
     "execution_count": 105,
     "metadata": {},
     "output_type": "execute_result"
    }
   ],
   "source": [
    "names.head()\n"
   ]
  },
  {
   "cell_type": "code",
   "execution_count": 91,
   "metadata": {},
   "outputs": [],
   "source": [
    "##get a list of movies based on a rating threshold and year threshold\n",
    "def filterMovies(ratingThreshold,yearThreshold,dfratings,dftitles):\n",
    "    avgVotes = np.mean(df_ratings['numVotes'])\n",
    "    qualifiedMovies = []\n",
    "    len(df_ratings)\n",
    "    boolean_series = dfratings.tconst.isin(movies)\n",
    "    dfratings = dfratings[boolean_series]\n",
    "    for row in dfratings.iterrows():\n",
    "        if row[1]['averageRating'] >= ratingThreshold and row[1]['numVotes'] >= avgVotes:\n",
    "            qualifiedMovies.append(row[1]['tconst'])\n",
    "    for movie in qualifiedMovies:\n",
    "        year = (list(dftitles[dftitles['tconst']==movie]['startYear'])[0])\n",
    "        if type(year) == str:\n",
    "            year = int(year)\n",
    "        if year >= yearThreshold:\n",
    "            qualifiedMoviesFinal.append(movie)\n",
    "    return qualifiedMovies"
   ]
  },
  {
   "cell_type": "code",
   "execution_count": 127,
   "metadata": {},
   "outputs": [
    {
     "name": "stdout",
     "output_type": "stream",
     "text": [
      "100\n"
     ]
    }
   ],
   "source": []
  },
  {
   "cell_type": "code",
   "execution_count": 112,
   "metadata": {},
   "outputs": [
    {
     "name": "stdout",
     "output_type": "stream",
     "text": [
      "5008\n"
     ]
    }
   ],
   "source": [
    "qualifiedMovies = filterMovies(7.5,2000,df_ratings,titles)\n",
    "print(len(qualifiedMovies))"
   ]
  },
  {
   "cell_type": "code",
   "execution_count": 113,
   "metadata": {},
   "outputs": [],
   "source": [
    "#find the frequent actors in the list of movies that meets the support threshold\n",
    "def findFreqActors(qMovies,supportThreshold):\n",
    "    count = 0\n",
    "    freqActors = dict()\n",
    "    for chunk in pd.read_csv('data/principals.tsv' ,sep='\\t', chunksize = 1000000, usecols = ['tconst','category','nconst']):\n",
    "        chunk = chunk[chunk['category']=='actor']\n",
    "        chunk = chunk.groupby('tconst')\n",
    "        for name, group in chunk:\n",
    "            if name not in qMovies:\n",
    "                continue\n",
    "            else:\n",
    "                actors = group['nconst'].unique()\n",
    "                for actor in actors:\n",
    "                    if actor in freqActors:\n",
    "                        freqActors[actor][0] += 1\n",
    "                        freqActors[actor][1].append(name)\n",
    "                    else:\n",
    "                        freqActors[actor] = [1,[name]]\n",
    "    for actor in freqActors:\n",
    "        if freqActors[actor][0] >= supportThreshold:\n",
    "            freqActorsFinal[actor] = freqActors[actor]\n",
    "    return freqActors"
   ]
  },
  {
   "cell_type": "code",
   "execution_count": 114,
   "metadata": {},
   "outputs": [],
   "source": [
    "freqActors = findFreqActors(qualifiedMovies,2)"
   ]
  },
  {
   "cell_type": "code",
   "execution_count": 116,
   "metadata": {},
   "outputs": [
    {
     "name": "stdout",
     "output_type": "stream",
     "text": [
      "7018\n"
     ]
    }
   ],
   "source": [
    "print(len(freqActors))"
   ]
  },
  {
   "cell_type": "code",
   "execution_count": 118,
   "metadata": {},
   "outputs": [],
   "source": [
    "def findPairs():\n",
    "    freq_pairs = dict()\n",
    "    for chunk in pd.read_csv('data/principals.tsv' ,sep='\\t', chunksize = 1000000, usecols = ['tconst','category','nconst']):\n",
    "        chunk = chunk[chunk['category']=='actor']\n",
    "        chunk = chunk.groupby('tconst')\n",
    "        for name, group in chunk:\n",
    "            freqActorsGroup = [actor for actor in group['nconst'] if actor in freqActorsFinal]\n",
    "            freqPairsGroup = list(itertools.combinations(freqActorsGroup,2))\n",
    "            for pair in freqPairsGroup:\n",
    "                if pair in freq_pairs:\n",
    "                    freq_pairs[pair][0] += 1\n",
    "                    freq_pairs[pair][1].append(name)\n",
    "                else:\n",
    "                    freq_pairs[pair] = [1,[name]]\n",
    "        freq_pairs = dict(sorted(freq_pairs.items(), key=lambda item: item[1],reverse=True))\n",
    "        freq_pairsFinal = dict()\n",
    "        for pair in freq_pairs:\n",
    "            if (pair[1],pair[0]) not in freq_pairsFinal:\n",
    "                freq_pairsFinal[pair] = freq_pairs[pair]\n",
    "        return freq_pairsFinal"
   ]
  },
  {
   "cell_type": "code",
   "execution_count": 119,
   "metadata": {},
   "outputs": [],
   "source": [
    "freq_pairs = findPairs()"
   ]
  },
  {
   "cell_type": "code",
   "execution_count": 126,
   "metadata": {},
   "outputs": [
    {
     "name": "stdout",
     "output_type": "stream",
     "text": [
      "8049\n",
      "Stan Laurel Oliver Hardy\n",
      "Bud Abbott Lou Costello\n",
      "Toshirô Mifune Takashi Shimura\n",
      "Terence Hill Bud Spencer\n",
      "Stephen Chow Man-Tat Ng\n",
      "Toshio Furukawa Akira Kamiya\n",
      "Basil Rathbone Nigel Bruce\n",
      "Charles Chaplin Henry Bergman\n",
      "Groucho Marx Harpo Marx\n",
      "Groucho Marx Chico Marx\n",
      "Totò Peppino De Filippo\n",
      "John Wayne Ward Bond\n",
      "Anil Kapoor Anupam Kher\n",
      "William Shatner Leonard Nimoy\n",
      "Andy Lau Man-Tat Ng\n",
      "Paolo Villaggio Gigi Reder\n",
      "Lew Ayres Lionel Barrymore\n",
      "Buster Keaton Joe Keaton\n",
      "Amitabh Bachchan Amjad Khan\n",
      "Amitabh Bachchan Shatrughan Sinha\n",
      "Kôji Tsuruta Tetsurô Tanba\n",
      "Ashok Kumar Sunil Dutt\n",
      "Sunil Dutt Pran\n",
      "Warren William Eric Blore\n",
      "Boris Karloff Bela Lugosi\n",
      "Harpo Marx Chico Marx\n",
      "Amitabh Bachchan Pran\n",
      "Sunil Dutt Shatrughan Sinha\n",
      "Marcello Mastroianni Michel Piccoli\n",
      "Alfredo Landa José Sacristán\n",
      "Kôji Tsuruta Tomisaburô Wakayama\n",
      "Jack Lemmon Walter Matthau\n",
      "Alberto Sordi Vittorio De Sica\n",
      "Peter Sellers Herbert Lom\n",
      "Gary Cooper Walter Brennan\n",
      "András Kern György Cserhalmi\n",
      "Diego Abatantuono Claudio Bisio\n",
      "Jackie Shroff Anil Kapoor\n",
      "Jackie Chan Sammo Kam-Bo Hung\n",
      "Shashi Kapoor Amitabh Bachchan\n",
      "José Sacristán Fernando Fernán Gómez\n",
      "Amitabh Bachchan Prem Chopra\n",
      "Burt Reynolds Ned Beatty\n",
      "Sunil Dutt Vinod Khanna\n",
      "John Cleese Terry Gilliam\n",
      "Vittorio Gassman Adolfo Celi\n",
      "Charlton Heston James Coburn\n",
      "Sunil Dutt Om Prakash\n",
      "Toshirô Mifune Tatsuya Nakadai\n",
      "Toshirô Mifune Tatsuya Mihashi\n",
      "Toshirô Mifune Keiju Kobayashi\n",
      "Jean Gabin Bernard Blier\n",
      "Toshirô Mifune Kôji Tsuruta\n",
      "Kishore Kumar Pran\n",
      "Dev Anand Johnny Walker\n",
      "Aldo Fabrizi Peppino De Filippo\n",
      "Burt Lancaster Kirk Douglas\n",
      "Vittorio De Sica Paolo Stoppa\n",
      "Laurence Olivier Ralph Richardson\n",
      "Emil Jannings Theodor Loos\n",
      "Jackie Shroff Nana Patekar\n",
      "Matti Pellonpää Kari Väänänen\n",
      "Sunny Deol Amrish Puri\n",
      "Andy Lau Sammo Kam-Bo Hung\n",
      "Dharmendra Mithun Chakraborty\n",
      "Rudolf Hrusínský Josef Somr\n",
      "Naseeruddin Shah Om Puri\n",
      "Shashi Kapoor Shatrughan Sinha\n",
      "John Belushi Dan Aykroyd\n",
      "Sylvester Stallone Carl Weathers\n",
      "Ralph Bellamy Theodore Bikel\n",
      "Sanjeev Kumar Amitabh Bachchan\n",
      "Ugo Tognazzi Gastone Moschin\n",
      "Dan Aykroyd John Candy\n",
      "Philippe Noiret Jean-Pierre Marielle\n",
      "Dragan Nikolic Aleksandar Bercek\n",
      "Vojislav 'Voja' Brajovic Aleksandar Bercek\n",
      "Dragan Nikolic Vojislav 'Voja' Brajovic\n",
      "Dharmendra Prem Chopra\n",
      "John Cleese Michael Palin\n",
      "Ezzatolah Entezami Mohamad Ali Keshavarz\n",
      "Rajesh Khanna Sujit Kumar\n",
      "Fernando Fernán Gómez José Luis López Vázquez\n",
      "Rajesh Khanna Prem Chopra\n",
      "John Cleese Eric Idle\n",
      "Graham Chapman Terry Gilliam\n",
      "Michael Caine Harry Andrews\n",
      "Bunta Sugawara Tomisaburô Wakayama\n",
      "Velimir 'Bata' Zivojinovic Ljubisa Samardzic\n",
      "Paul Newman Strother Martin\n",
      "Sunil Dutt Shashi Kapoor\n",
      "Sergey Bondarchuk Vyacheslav Tikhonov\n",
      "Philippe Leroy Gastone Moschin\n",
      "Soumitra Chatterjee Haradhan Bannerjee\n",
      "Jean-Paul Belmondo Jean-Pierre Marielle\n",
      "Horst Buchholz José Ferrer\n",
      "Ashok Kumar Dharmendra\n",
      "Toshirô Mifune Yûnosuke Itô\n",
      "Alain Delon Renato Salvatori\n",
      "Toshirô Mifune Yûzô Kayama\n",
      "Joel Rinne Matti Ranin\n",
      "Vittorio Gassman Nino Manfredi\n",
      "José Isbert José Luis López Vázquez\n",
      "Vittorio Gassman Ugo Tognazzi\n",
      "Guru Dutt Rehman\n",
      "Vittorio De Sica Marcello Mastroianni\n",
      "Totò Aldo Fabrizi\n",
      "Alec Guinness Jack Hawkins\n",
      "Guru Dutt Johnny Walker\n",
      "Raj Kapoor Pran\n",
      "Fernando Fernán Gómez José Isbert\n",
      "James Stewart Henry Fonda\n",
      "Burt Lancaster Wendell Corey\n",
      "Paul Henreid Claude Rains\n",
      "Gino Cervi Paolo Stoppa\n",
      "Edward G. Robinson Humphrey Bogart\n",
      "Bela Lugosi Lionel Atwill\n",
      "Clark Gable Lionel Barrymore\n",
      "Vasco Santana António Silva\n",
      "Raimu Fernand Charpin\n",
      "Takeshi Sakamoto Tomio Aoki\n",
      "Emil Jannings Conrad Veidt\n"
     ]
    }
   ],
   "source": [
    "print(len(freq_pairs))\n",
    "freqpairsfinal = dict()\n",
    "for pair in freq_pairs:\n",
    "    if (freq_pairs[pair][0] >= 4):\n",
    "        freqpairsfinal[pair] = freq_pairs[pair]\n",
    "    #print(getName(pair[0]),getName(pair[1]))\n",
    "for pair in freqpairsfinal:\n",
    "    print(getName(pair[0]),getName(pair[1]))"
   ]
  },
  {
   "cell_type": "code",
   "execution_count": 121,
   "metadata": {},
   "outputs": [],
   "source": [
    "def getName(nconst):\n",
    "    return list(names[names['nconst']==nconst]['primaryName'])[0] \n",
    "def getSoloMovies(name1,name2,pairsDict,soloDict):\n",
    "    name1solomovies = []\n",
    "    name2solomovies = []\n",
    "    for movie in soloDict[name1][1]:\n",
    "        if movie not in pairsDict[(name1,name2)][1]:\n",
    "            name1solomovies.append(movie)\n",
    "    for movie in soloDict[name2][1]:\n",
    "        if movie not in pairsDict[(name1,name2)][1]:\n",
    "            name2solomovies.append(movie)\n",
    "    return name1solomovies,name2solomovies\n",
    "def getRatings(movies):\n",
    "    ratings = []\n",
    "    if len(movies) == 0:\n",
    "        return 0\n",
    "    for movie in movies:\n",
    "        ratings.append(list(df_ratings[df_ratings['tconst']== movie]['averageRating'])[0])\n",
    "    rating = np.mean(ratings)\n",
    "    return rating"
   ]
  },
  {
   "cell_type": "code",
   "execution_count": null,
   "metadata": {
    "scrolled": true
   },
   "outputs": [],
   "source": []
  },
  {
   "cell_type": "code",
   "execution_count": 15,
   "metadata": {},
   "outputs": [
    {
     "name": "stderr",
     "output_type": "stream",
     "text": [
      "C:\\Users\\Matt\\anaconda3\\lib\\site-packages\\IPython\\core\\interactiveshell.py:3063: DtypeWarning: Columns (4,5) have mixed types.Specify dtype option on import or set low_memory=False.\n",
      "  interactivity=interactivity, compiler=compiler, result=result)\n"
     ]
    }
   ],
   "source": []
  },
  {
   "cell_type": "code",
   "execution_count": null,
   "metadata": {},
   "outputs": [],
   "source": []
  },
  {
   "cell_type": "code",
   "execution_count": null,
   "metadata": {},
   "outputs": [],
   "source": []
  },
  {
   "cell_type": "code",
   "execution_count": null,
   "metadata": {},
   "outputs": [],
   "source": []
  }
 ],
 "metadata": {
  "kernelspec": {
   "display_name": "Python 3",
   "language": "python",
   "name": "python3"
  },
  "language_info": {
   "codemirror_mode": {
    "name": "ipython",
    "version": 3
   },
   "file_extension": ".py",
   "mimetype": "text/x-python",
   "name": "python",
   "nbconvert_exporter": "python",
   "pygments_lexer": "ipython3",
   "version": "3.7.6"
  }
 },
 "nbformat": 4,
 "nbformat_minor": 4
}
