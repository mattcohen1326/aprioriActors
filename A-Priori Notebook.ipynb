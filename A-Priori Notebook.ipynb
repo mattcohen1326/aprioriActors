{
 "cells": [
  {
   "cell_type": "code",
   "execution_count": 1,
   "metadata": {},
   "outputs": [],
   "source": [
    "import pandas as pd\n",
    "import numpy as np\n",
    "import itertools"
   ]
  },
  {
   "cell_type": "markdown",
   "metadata": {},
   "source": [
    "### In the cell below we read in the ratings, titles, and names data frames\n",
    "### We then make a list of unique movies contained within the titles dataframe"
   ]
  },
  {
   "cell_type": "code",
   "execution_count": 2,
   "metadata": {},
   "outputs": [
    {
     "name": "stderr",
     "output_type": "stream",
     "text": [
      "C:\\Users\\Matt\\anaconda3\\lib\\site-packages\\IPython\\core\\interactiveshell.py:3063: DtypeWarning: Columns (4,5) have mixed types.Specify dtype option on import or set low_memory=False.\n",
      "  interactivity=interactivity, compiler=compiler, result=result)\n"
     ]
    }
   ],
   "source": [
    "df_ratings = pd.read_csv('data/ratings.tsv',sep = '\\t') \n",
    "titles = pd.read_csv('data/titles.tsv',sep='\\t')\n",
    "names = pd.read_csv('data/names.tsv',sep = '\\t')\n",
    "movies = titles[titles['titleType']=='movie']\n",
    "movies = list(movies['tconst'].unique())"
   ]
  },
  {
   "cell_type": "markdown",
   "metadata": {},
   "source": [
    "### We could not use every single movie because the principals data frame is  ~ 45 million rows long.\n",
    "### We filtered the movies by a year, average rating, and number of ratings thresholds\n",
    "### The function filterMovies returns a list of movies that fit the thresholds passed in to the function"
   ]
  },
  {
   "cell_type": "code",
   "execution_count": 43,
   "metadata": {},
   "outputs": [],
   "source": [
    "##get a list of movies based on a rating threshold and year threshold\n",
    "def filterMovies(ratingThreshold,yearThreshold,dfratings,dftitles):\n",
    "    avgVotes = 50000\n",
    "    qualifiedMovies = []\n",
    "    len(df_ratings)\n",
    "    boolean_series = dfratings.tconst.isin(movies)\n",
    "    dfratings = dfratings[boolean_series]\n",
    "    for row in dfratings.iterrows():\n",
    "        if row[1]['numVotes'] >= avgVotes:\n",
    "            if row[1]['averageRating'] >= ratingThreshold:\n",
    "                qualifiedMovies.append(row[1]['tconst'])\n",
    "    qualifiedMoviesFinal = []\n",
    "    for movie in qualifiedMovies:\n",
    "        year = (list(dftitles[dftitles['tconst']==movie]['startYear'])[0])\n",
    "        if type(year) == str:\n",
    "            year = int(year)\n",
    "        if year >= yearThreshold:\n",
    "            qualifiedMoviesFinal.append(movie)\n",
    "    return qualifiedMoviesFinal"
   ]
  },
  {
   "cell_type": "markdown",
   "metadata": {},
   "source": [
    "### In the cell below we get a list of movies made from 1950 on with no average rating filter.  \n",
    "### For less powerful computers, if you are checking to see if the code runs and dont want to wait you can increase the year and the rating filters, but this will make the rating results less accurate at the end of the notebook"
   ]
  },
  {
   "cell_type": "code",
   "execution_count": 44,
   "metadata": {},
   "outputs": [
    {
     "name": "stdout",
     "output_type": "stream",
     "text": [
      "3411\n"
     ]
    }
   ],
   "source": [
    "qualifiedMovies = filterMovies(0,1950,df_ratings,titles)\n",
    "print(len(qualifiedMovies))"
   ]
  },
  {
   "cell_type": "markdown",
   "metadata": {},
   "source": [
    "### Here is where we actually run a priori on the principals data set.\n",
    "### We read in the data by chunks of 1 million.  \n",
    "### For every chunk we go through every actor in every qualified movie and add them and a list of their movies to a frequent actors dictionary\n",
    "### Finally we filter out any actors who did not reach our support threshold parameter and return the final dict"
   ]
  },
  {
   "cell_type": "code",
   "execution_count": 46,
   "metadata": {},
   "outputs": [],
   "source": [
    "## find the frequent actors in the list of movies that meets the support threshold\n",
    "def findFreqActors(qMovies,s):\n",
    "    count = 0\n",
    "    freqActors = dict()\n",
    "    for chunk in pd.read_csv('data/principals.tsv' ,sep='\\t', chunksize = 1000000, usecols = ['tconst','category','nconst']):\n",
    "        chunk = chunk[chunk['category']=='actor']\n",
    "        chunk = chunk.groupby('tconst')\n",
    "        for name, group in chunk:\n",
    "            if name not in qMovies:\n",
    "                continue\n",
    "            else:\n",
    "                actors = group['nconst'].unique()\n",
    "                for actor in actors:\n",
    "                    if actor in freqActors:\n",
    "                        freqActors[actor][0] += 1\n",
    "                        if name in qMovies:\n",
    "                            freqActors[actor][1].append(name)\n",
    "                    else:\n",
    "                        freqActors[actor] = [1,[name]]\n",
    "    freqActorsFinal = dict()\n",
    "    for actor in freqActors:\n",
    "        if freqActors[actor][0] >= supportThreshold:\n",
    "            freqActorsFinal[actor] = freqActors[actor]\n",
    "    return freqActors"
   ]
  },
  {
   "cell_type": "markdown",
   "metadata": {},
   "source": [
    "### In the two cells below, we get the frequent actors with a support threshold of 2 and then we wrote a quick helper function to help us get the intersection of movies between actors"
   ]
  },
  {
   "cell_type": "code",
   "execution_count": 112,
   "metadata": {},
   "outputs": [],
   "source": [
    "freqActors = findFreqActors(qualifiedMovies,2)"
   ]
  },
  {
   "cell_type": "code",
   "execution_count": 174,
   "metadata": {},
   "outputs": [
    {
     "name": "stdout",
     "output_type": "stream",
     "text": [
      "['tt0120903', 'tt0290334', 'tt1877832']\n"
     ]
    }
   ],
   "source": [
    "def andFunction(movies1,movies2):\n",
    "    movieReturn = []\n",
    "    for movie in movies1:\n",
    "        if movie in movies2:\n",
    "            movieReturn.append(movie)\n",
    "    return movieReturn"
   ]
  },
  {
   "cell_type": "code",
   "execution_count": 201,
   "metadata": {},
   "outputs": [
    {
     "name": "stdout",
     "output_type": "stream",
     "text": [
      "388\n"
     ]
    }
   ],
   "source": []
  },
  {
   "cell_type": "code",
   "execution_count": null,
   "metadata": {},
   "outputs": [],
   "source": []
  },
  {
   "cell_type": "markdown",
   "metadata": {},
   "source": [
    "### In the cell below we have the function to find frequent pairs\n",
    "### We simply go through all the actors for each actor (a nested loop) and add all pairs of actors and the movies they are in together to the pair dictionary\n",
    "### Finally we filter again for the support threshold to pick out pairs that have a certain number of movies together\n",
    "\n",
    "### In the following cell we run the function with a support threshold of 3 to get our frequent pairs"
   ]
  },
  {
   "cell_type": "code",
   "execution_count": 116,
   "metadata": {},
   "outputs": [],
   "source": [
    "def findPairs(frequentActors,s):\n",
    "    freqPairs = dict()\n",
    "    for actor in frequentActors:\n",
    "        for actor2 in frequentActors:\n",
    "            if actor == actor2 or (actor2,actor) in freqPairs:\n",
    "                continue\n",
    "            else:\n",
    "                movies_together = []\n",
    "                for movie in frequentActors[actor][1]:\n",
    "                    if movie in frequentActors[actor2][1]:\n",
    "                        movies_together.append(movie)\n",
    "                for movie in frequentActors[actor2][1]:\n",
    "                    if movie in frequentActors[actor][1] and movie not in movies_together:\n",
    "                        movies_together.append(movie)\n",
    "                freqPairs[(actor,actor2)] = [len(movies_together),movies_together]\n",
    "    final = dict()\n",
    "    for pair in freqPairs:\n",
    "        if freqPairs[pair][0] >= s:\n",
    "            final[pair] = freqPairs[pair]\n",
    "    return final"
   ]
  },
  {
   "cell_type": "code",
   "execution_count": 233,
   "metadata": {},
   "outputs": [
    {
     "name": "stdout",
     "output_type": "stream",
     "text": [
      "116\n"
     ]
    }
   ],
   "source": [
    "freqPairs = findPairs(freqActors,3)\n",
    "print(len(freqPairs))"
   ]
  },
  {
   "cell_type": "code",
   "execution_count": null,
   "metadata": {},
   "outputs": [],
   "source": []
  },
  {
   "cell_type": "code",
   "execution_count": 102,
   "metadata": {
    "scrolled": false
   },
   "outputs": [],
   "source": []
  },
  {
   "cell_type": "markdown",
   "metadata": {},
   "source": [
    "### Below is the function to find frequent triples from the frequent pairs for a given support threshold.\n",
    "\n",
    "### If all subsets of the triple exist within the pairs dict then we add it to the triples dictionary along with a list of their movies together\n",
    "\n",
    "### Once again we filter for the support threshold and return the dictionary"
   ]
  },
  {
   "cell_type": "code",
   "execution_count": 250,
   "metadata": {},
   "outputs": [],
   "source": [
    "def freqTriples(frequent_pairs,s):\n",
    "    fTriples = dict()\n",
    "    for pair in frequent_pairs:\n",
    "        for pair2 in frequent_pairs:\n",
    "            if pair[1] == pair2[0] and (pair[0],pair2[1]) in frequent_pairs:\n",
    "                actors = [pair[0],pair[1],pair2[1]]\n",
    "                moviesTogether = []\n",
    "                movies12 = frequent_pairs[pair][1]\n",
    "                movies23 = frequent_pairs[pair2][1]\n",
    "                movies13 = frequent_pairs[(pair[0],pair2[1])][1]\n",
    "                movies12_23 = andFunction(movies12,movies23)\n",
    "                movies_allthree = andFunction(movies12_23,movies13)\n",
    "                fTriples[(pair[0],pair[1],pair2[1])] = [len(movies_allthree),movies_allthree]\n",
    "    triplesFinal = dict()\n",
    "    for triple in fTriples:\n",
    "        if fTriples[triple][0] >= s:\n",
    "            triplesFinal[triple] = fTriples[triple]\n",
    "    return triplesFinal"
   ]
  },
  {
   "cell_type": "markdown",
   "metadata": {},
   "source": [
    "### Below are helper functions to help print results of our frequent duos\n",
    "\n",
    "### getName simply returns the actual name from an nconst value\n",
    "\n",
    "### get solo movies takes a pair and returns a list of all the movies each actor did on their own (without the other)\n",
    "\n",
    "### get ratings takes a list of tconst (title keys) and returns the average rating for these titles"
   ]
  },
  {
   "cell_type": "code",
   "execution_count": 251,
   "metadata": {},
   "outputs": [],
   "source": [
    "def getName(nconst):\n",
    "    return list(names[names['nconst']==nconst]['primaryName'])[0]\n",
    "    \n",
    "def getSoloMovies(name1,name2,pairsDict,soloDict):\n",
    "    name1solomovies = []\n",
    "    name2solomovies = []\n",
    "    for movie in soloDict[name1][1]:\n",
    "        if movie not in pairsDict[(name1,name2)][1]:\n",
    "            name1solomovies.append(movie)\n",
    "    for movie in soloDict[name2][1]:\n",
    "        if movie not in pairsDict[(name1,name2)][1]:\n",
    "            name2solomovies.append(movie)\n",
    "    for movie in name1solomovies:\n",
    "        if movie in name2solomovies:\n",
    "            pairsDict[(name1,name2)][1].append(movie)\n",
    "            name1solomovies.remove(movie)\n",
    "            name2solomovies.remove(movie)\n",
    "    return name1solomovies,name2solomovies\n",
    "def getRatings(movies):\n",
    "    ratings = []\n",
    "    if len(movies) == 0:\n",
    "        return 0\n",
    "    for movie in movies:\n",
    "        if len(list(df_ratings[df_ratings['tconst']== movie]['averageRating']))>0:\n",
    "            ratings.append(list(df_ratings[df_ratings['tconst']== movie]['averageRating'])[0])\n",
    "    rating = np.mean(ratings)\n",
    "    return rating"
   ]
  },
  {
   "cell_type": "markdown",
   "metadata": {},
   "source": [
    "### The following helper function goes through every pair in the frequent pairs and prints the results of their ratings\n",
    "\n",
    "### More specifically the average rating for the duo is printed along with each actors individual average rating (without their dynamic duo) and whether it was more or less than that of the duo together"
   ]
  },
  {
   "cell_type": "code",
   "execution_count": 252,
   "metadata": {},
   "outputs": [],
   "source": [
    "def displayDuoResults(frequentPairs,frequentActors):\n",
    "    print(\"SOLO RATINGS MEANS WITHOUT THE OTHER ACTOR\")\n",
    "    finalRatings = dict()\n",
    "    for pair in frequentPairs:\n",
    "        movies1,movies2 = getSoloMovies(pair[0],pair[1],frequentPairs,frequentActors)\n",
    "        ratings1 = getRatings(movies1)\n",
    "        ratings2 = getRatings(movies2)\n",
    "        Cratings = getRatings(frequentPairs[pair][1])\n",
    "        print(\"The Duo of: \", getName(pair[0]), \" and \", getName(pair[1]), \" had an average rating of: \", getRatings(frequentPairs[pair][1]))\n",
    "        keyword1 = \"greater\"\n",
    "        keyword2 = \"greater\"\n",
    "        finalRatings[pair] = Cratings\n",
    "        if ratings1 < Cratings:\n",
    "            keyword1 = \"lower\"\n",
    "        elif ratings1 == Cratings:\n",
    "            keyword1 = \"the same\"\n",
    "        if ratings2 < Cratings:\n",
    "            keyword2 = \"lower\"\n",
    "        elif ratings2 == Cratings:\n",
    "            keyword2 = \"the same\"\n",
    "        print(getName(pair[0]), \"'s solo average Rating: \", getRatings(movies1), \" which was \", keyword1)\n",
    "        print(getName(pair[1]), \"'s solo average Rating: \", getRatings(movies2), \"which was \",keyword2) "
   ]
  },
  {
   "cell_type": "code",
   "execution_count": 255,
   "metadata": {},
   "outputs": [
    {
     "name": "stdout",
     "output_type": "stream",
     "text": [
      "SOLO RATINGS MEANS WITHOUT THE OTHER ACTOR\n",
      "The Duo of:  Hugh Jackman  and  Patrick Stewart  had an average rating of:  7.5\n",
      "Hugh Jackman 's solo average Rating:  6.936842105263157  which was  lower\n",
      "Patrick Stewart 's solo average Rating:  6.7 which was  lower\n",
      "The Duo of:  Hugh Jackman  and  Ian McKellen  had an average rating of:  7.324999999999999\n",
      "Hugh Jackman 's solo average Rating:  6.999999999999998  which was  lower\n",
      "Ian McKellen 's solo average Rating:  7.822222222222221 which was  greater\n",
      "The Duo of:  Dustin Hoffman  and  Jack Black  had an average rating of:  7.3\n",
      "Dustin Hoffman 's solo average Rating:  7.405882352941176  which was  greater\n",
      "Jack Black 's solo average Rating:  6.4437500000000005 which was  lower\n",
      "The Duo of:  Al Pacino  and  Robert De Niro  had an average rating of:  7.75\n",
      "Al Pacino 's solo average Rating:  7.157894736842105  which was  lower\n",
      "Robert De Niro 's solo average Rating:  7.091304347826087 which was  lower\n",
      "The Duo of:  Robert De Niro  and  Harvey Keitel  had an average rating of:  7.333333333333333\n",
      "Robert De Niro 's solo average Rating:  7.131914893617021  which was  lower\n",
      "Harvey Keitel 's solo average Rating:  7.166666666666667 which was  lower\n",
      "The Duo of:  Robert De Niro  and  Joe Pesci  had an average rating of:  8.225\n",
      "Robert De Niro 's solo average Rating:  7.05  which was  lower\n",
      "Joe Pesci 's solo average Rating:  7.1000000000000005 which was  lower\n",
      "The Duo of:  Robert De Niro  and  Ben Stiller  had an average rating of:  6.266666666666667\n",
      "Robert De Niro 's solo average Rating:  7.199999999999999  which was  greater\n",
      "Ben Stiller 's solo average Rating:  6.380952380952381 which was  greater\n",
      "The Duo of:  Robert De Niro  and  Bradley Cooper  had an average rating of:  7.233333333333334\n",
      "Robert De Niro 's solo average Rating:  7.1382978723404245  which was  lower\n",
      "Bradley Cooper 's solo average Rating:  6.806666666666667 which was  lower\n",
      "The Duo of:  John Cleese  and  Terry Gilliam  had an average rating of:  7.933333333333333\n",
      "John Cleese 's solo average Rating:  7.25  which was  lower\n",
      "Terry Gilliam 's solo average Rating:  0 which was  lower\n",
      "The Duo of:  Michael York  and  Mike Myers  had an average rating of:  6.6000000000000005\n",
      "Michael York 's solo average Rating:  6.8  which was  greater\n",
      "Mike Myers 's solo average Rating:  6.05 which was  lower\n",
      "The Duo of:  Sylvester Stallone  and  Burt Young  had an average rating of:  6.916666666666667\n",
      "Sylvester Stallone 's solo average Rating:  6.447826086956521  which was  lower\n",
      "Burt Young 's solo average Rating:  0 which was  lower\n",
      "The Duo of:  Sylvester Stallone  and  Carl Weathers  had an average rating of:  7.275\n",
      "Sylvester Stallone 's solo average Rating:  6.428  which was  lower\n",
      "Carl Weathers 's solo average Rating:  7.8 which was  greater\n",
      "The Duo of:  Sylvester Stallone  and  Richard Crenna  had an average rating of:  6.666666666666667\n",
      "Sylvester Stallone 's solo average Rating:  6.5307692307692315  which was  lower\n",
      "Richard Crenna 's solo average Rating:  6.6 which was  lower\n",
      "The Duo of:  Burt Young  and  Carl Weathers  had an average rating of:  7.275\n",
      "Burt Young 's solo average Rating:  6.199999999999999  which was  lower\n",
      "Carl Weathers 's solo average Rating:  7.8 which was  greater\n",
      "The Duo of:  Michael Caine  and  Christian Bale  had an average rating of:  8.566666666666666\n",
      "Michael Caine 's solo average Rating:  6.988235294117647  which was  lower\n",
      "Christian Bale 's solo average Rating:  7.12 which was  lower\n",
      "The Duo of:  Mark Hamill  and  Harrison Ford  had an average rating of:  8.533333333333333\n",
      "Mark Hamill 's solo average Rating:  6.7  which was  lower\n",
      "Harrison Ford 's solo average Rating:  6.960869565217391 which was  lower\n",
      "The Duo of:  Mel Gibson  and  Joe Pesci  had an average rating of:  6.866666666666667\n",
      "Mel Gibson 's solo average Rating:  6.8549999999999995  which was  lower\n",
      "Joe Pesci 's solo average Rating:  7.842857142857142 which was  greater\n",
      "The Duo of:  Mel Gibson  and  Danny Glover  had an average rating of:  7.05\n",
      "Mel Gibson 's solo average Rating:  6.815789473684211  which was  lower\n",
      "Danny Glover 's solo average Rating:  6.966666666666668 which was  lower\n",
      "The Duo of:  William Shatner  and  Leonard Nimoy  had an average rating of:  6.800000000000001\n",
      "William Shatner 's solo average Rating:  5.85  which was  lower\n",
      "Leonard Nimoy 's solo average Rating:  7.9 which was  greater\n",
      "The Duo of:  William Shatner  and  DeForest Kelley  had an average rating of:  6.800000000000001\n",
      "William Shatner 's solo average Rating:  5.85  which was  lower\n",
      "DeForest Kelley 's solo average Rating:  0 which was  lower\n",
      "The Duo of:  William Shatner  and  James Doohan  had an average rating of:  6.800000000000001\n",
      "William Shatner 's solo average Rating:  5.85  which was  lower\n",
      "James Doohan 's solo average Rating:  0 which was  lower\n",
      "The Duo of:  Leonard Nimoy  and  DeForest Kelley  had an average rating of:  6.800000000000001\n",
      "Leonard Nimoy 's solo average Rating:  7.9  which was  greater\n",
      "DeForest Kelley 's solo average Rating:  0 which was  lower\n",
      "The Duo of:  Leonard Nimoy  and  James Doohan  had an average rating of:  6.800000000000001\n",
      "Leonard Nimoy 's solo average Rating:  7.9  which was  greater\n",
      "James Doohan 's solo average Rating:  0 which was  lower\n",
      "The Duo of:  DeForest Kelley  and  James Doohan  had an average rating of:  6.800000000000001\n",
      "DeForest Kelley 's solo average Rating:  0  which was  lower\n",
      "James Doohan 's solo average Rating:  0 which was  lower\n",
      "The Duo of:  Leslie Nielsen  and  O.J. Simpson  had an average rating of:  7.0\n",
      "Leslie Nielsen 's solo average Rating:  6.1  which was  lower\n",
      "O.J. Simpson 's solo average Rating:  0 which was  lower\n",
      "The Duo of:  Bill Murray  and  Harold Ramis  had an average rating of:  7.099999999999999\n",
      "Bill Murray 's solo average Rating:  6.9526315789473685  which was  lower\n",
      "Harold Ramis 's solo average Rating:  0 which was  lower\n",
      "The Duo of:  Joe Pesci  and  Danny Glover  had an average rating of:  6.866666666666667\n",
      "Joe Pesci 's solo average Rating:  7.842857142857142  which was  greater\n",
      "Danny Glover 's solo average Rating:  7.057142857142857 which was  greater\n",
      "The Duo of:  Eddie Murphy  and  Mike Myers  had an average rating of:  6.8500000000000005\n",
      "Eddie Murphy 's solo average Rating:  6.244444444444444  which was  lower\n",
      "Mike Myers 's solo average Rating:  5.828571428571428 which was  lower\n",
      "The Duo of:  Ralph Macchio  and  Pat Morita  had an average rating of:  6.233333333333333\n",
      "Ralph Macchio 's solo average Rating:  7.35  which was  greater\n",
      "Pat Morita 's solo average Rating:  0 which was  lower\n",
      "The Duo of:  Tom Cruise  and  Ving Rhames  had an average rating of:  6.8999999999999995\n",
      "Tom Cruise 's solo average Rating:  6.99375  which was  greater\n",
      "Ving Rhames 's solo average Rating:  6.514285714285713 which was  lower\n",
      "The Duo of:  Tom Cruise  and  Simon Pegg  had an average rating of:  7.5\n",
      "Tom Cruise 's solo average Rating:  6.9375  which was  lower\n",
      "Simon Pegg 's solo average Rating:  7.2375 which was  lower\n",
      "The Duo of:  Johnny Depp  and  Geoffrey Rush  had an average rating of:  7.05\n",
      "Johnny Depp 's solo average Rating:  6.890909090909091  which was  lower\n",
      "Geoffrey Rush 's solo average Rating:  7.159999999999999 which was  greater\n",
      "The Duo of:  Johnny Depp  and  Orlando Bloom  had an average rating of:  7.225\n",
      "Johnny Depp 's solo average Rating:  6.869696969696969  which was  lower\n",
      "Orlando Bloom 's solo average Rating:  7.883333333333333 which was  greater\n",
      "The Duo of:  Tom Hanks  and  Tim Allen  had an average rating of:  8.05\n",
      "Tom Hanks 's solo average Rating:  7.121621621621622  which was  lower\n",
      "Tim Allen 's solo average Rating:  6.3 which was  lower\n",
      "The Duo of:  Michael J. Fox  and  Christopher Lloyd  had an average rating of:  7.900000000000001\n",
      "Michael J. Fox 's solo average Rating:  6.4399999999999995  which was  lower\n",
      "Christopher Lloyd 's solo average Rating:  6.916666666666667 which was  lower\n",
      "The Duo of:  John Goodman  and  Steve Buscemi  had an average rating of:  7.833333333333333\n",
      "John Goodman 's solo average Rating:  6.885714285714285  which was  lower\n",
      "Steve Buscemi 's solo average Rating:  6.622222222222222 which was  lower\n",
      "The Duo of:  Bruce Willis  and  Samuel L. Jackson  had an average rating of:  7.625\n",
      "Bruce Willis 's solo average Rating:  6.7696969696969695  which was  lower\n"
     ]
    },
    {
     "name": "stdout",
     "output_type": "stream",
     "text": [
      "Samuel L. Jackson 's solo average Rating:  6.659375 which was  lower\n",
      "The Duo of:  Keanu Reeves  and  Laurence Fishburne  had an average rating of:  7.525\n",
      "Keanu Reeves 's solo average Rating:  6.709090909090909  which was  lower\n",
      "Laurence Fishburne 's solo average Rating:  6.716666666666668 which was  lower\n",
      "The Duo of:  Keanu Reeves  and  Hugo Weaving  had an average rating of:  7.566666666666666\n",
      "Keanu Reeves 's solo average Rating:  6.739130434782608  which was  lower\n",
      "Hugo Weaving 's solo average Rating:  7.1000000000000005 which was  lower\n",
      "The Duo of:  Liam Neeson  and  Ralph Fiennes  had an average rating of:  6.8\n",
      "Liam Neeson 's solo average Rating:  6.704347826086955  which was  lower\n",
      "Ralph Fiennes 's solo average Rating:  7.15 which was  greater\n",
      "The Duo of:  Laurence Fishburne  and  Hugo Weaving  had an average rating of:  7.566666666666666\n",
      "Laurence Fishburne 's solo average Rating:  6.814285714285715  which was  lower\n",
      "Hugo Weaving 's solo average Rating:  7.1000000000000005 which was  lower\n",
      "The Duo of:  Gary Oldman  and  Tom Hardy  had an average rating of:  7.333333333333333\n",
      "Gary Oldman 's solo average Rating:  6.894117647058824  which was  lower\n",
      "Tom Hardy 's solo average Rating:  7.324999999999999 which was  lower\n",
      "The Duo of:  Robert Downey Jr.  and  Chris Evans  had an average rating of:  7.9799999999999995\n",
      "Robert Downey Jr. 's solo average Rating:  7.075  which was  lower\n",
      "Chris Evans 's solo average Rating:  6.647058823529412 which was  lower\n",
      "The Duo of:  Robert Downey Jr.  and  Mark Ruffalo  had an average rating of:  7.949999999999999\n",
      "Robert Downey Jr. 's solo average Rating:  7.123809523809525  which was  lower\n",
      "Mark Ruffalo 's solo average Rating:  7.1 which was  lower\n",
      "The Duo of:  Robert Downey Jr.  and  Chris Hemsworth  had an average rating of:  8.033333333333333\n",
      "Robert Downey Jr. 's solo average Rating:  7.150000000000002  which was  lower\n",
      "Chris Hemsworth 's solo average Rating:  6.592307692307694 which was  lower\n",
      "The Duo of:  Brad Pitt  and  George Clooney  had an average rating of:  7.025\n",
      "Brad Pitt 's solo average Rating:  7.34375  which was  greater\n",
      "George Clooney 's solo average Rating:  6.672000000000001 which was  lower\n",
      "The Duo of:  Tommy Lee Jones  and  Will Smith  had an average rating of:  6.766666666666667\n",
      "Tommy Lee Jones 's solo average Rating:  6.576923076923077  which was  lower\n",
      "Will Smith 's solo average Rating:  6.61304347826087 which was  lower\n",
      "The Duo of:  Wesley Snipes  and  Kris Kristofferson  had an average rating of:  6.566666666666667\n",
      "Wesley Snipes 's solo average Rating:  6.660000000000001  which was  greater\n",
      "Kris Kristofferson 's solo average Rating:  7.1 which was  greater\n",
      "The Duo of:  Woody Harrelson  and  Jesse Eisenberg  had an average rating of:  7.025\n",
      "Woody Harrelson 's solo average Rating:  6.994736842105262  which was  lower\n",
      "Jesse Eisenberg 's solo average Rating:  6.65 which was  lower\n",
      "The Duo of:  John Leguizamo  and  Denis Leary  had an average rating of:  6.6800000000000015\n",
      "John Leguizamo 's solo average Rating:  6.354545454545454  which was  lower\n",
      "Denis Leary 's solo average Rating:  6.9 which was  greater\n",
      "The Duo of:  John Leguizamo  and  Ray Romano  had an average rating of:  6.6800000000000015\n",
      "John Leguizamo 's solo average Rating:  6.354545454545454  which was  lower\n",
      "Ray Romano 's solo average Rating:  7.5 which was  greater\n",
      "The Duo of:  Jon Favreau  and  Vince Vaughn  had an average rating of:  6.166666666666667\n",
      "Jon Favreau 's solo average Rating:  7.033333333333334  which was  greater\n",
      "Vince Vaughn 's solo average Rating:  6.487500000000001 which was  greater\n",
      "The Duo of:  Antonio Banderas  and  Daryl Sabara  had an average rating of:  5.0\n",
      "Antonio Banderas 's solo average Rating:  6.568421052631578  which was  greater\n",
      "Daryl Sabara 's solo average Rating:  0 which was  lower\n",
      "The Duo of:  Patrick Stewart  and  Jonathan Frakes  had an average rating of:  6.75\n",
      "Patrick Stewart 's solo average Rating:  7.175000000000001  which was  greater\n",
      "Jonathan Frakes 's solo average Rating:  0 which was  lower\n",
      "The Duo of:  Patrick Stewart  and  Brent Spiner  had an average rating of:  6.8\n",
      "Patrick Stewart 's solo average Rating:  7.111111111111111  which was  greater\n",
      "Brent Spiner 's solo average Rating:  0 which was  lower\n",
      "The Duo of:  Patrick Stewart  and  LeVar Burton  had an average rating of:  6.8\n",
      "Patrick Stewart 's solo average Rating:  7.111111111111111  which was  greater\n",
      "LeVar Burton 's solo average Rating:  0 which was  lower\n",
      "The Duo of:  Patrick Stewart  and  Ian McKellen  had an average rating of:  7.566666666666667\n",
      "Patrick Stewart 's solo average Rating:  6.855555555555556  which was  lower\n",
      "Ian McKellen 's solo average Rating:  7.7 which was  greater\n",
      "The Duo of:  Jonathan Frakes  and  Brent Spiner  had an average rating of:  6.8\n",
      "Jonathan Frakes 's solo average Rating:  6.6  which was  lower\n",
      "Brent Spiner 's solo average Rating:  0 which was  lower\n",
      "The Duo of:  Jonathan Frakes  and  LeVar Burton  had an average rating of:  6.8\n",
      "Jonathan Frakes 's solo average Rating:  6.6  which was  lower\n",
      "LeVar Burton 's solo average Rating:  0 which was  lower\n",
      "The Duo of:  Will Smith  and  Martin Lawrence  had an average rating of:  6.7\n",
      "Will Smith 's solo average Rating:  6.621739130434783  which was  lower\n",
      "Martin Lawrence 's solo average Rating:  5.875000000000001 which was  lower\n",
      "The Duo of:  Adam Sandler  and  Chris Rock  had an average rating of:  5.900000000000001\n",
      "Adam Sandler 's solo average Rating:  6.239285714285715  which was  greater\n",
      "Chris Rock 's solo average Rating:  6.766666666666667 which was  greater\n",
      "The Duo of:  Adam Sandler  and  Kevin James  had an average rating of:  6.114285714285714\n",
      "Adam Sandler 's solo average Rating:  6.233333333333333  which was  greater\n",
      "Kevin James 's solo average Rating:  5.74 which was  lower\n",
      "The Duo of:  Adam Sandler  and  Andy Samberg  had an average rating of:  6.4\n",
      "Adam Sandler 's solo average Rating:  6.177777777777778  which was  lower\n",
      "Andy Samberg 's solo average Rating:  6.9 which was  greater\n",
      "The Duo of:  Paul Rudd  and  Steve Carell  had an average rating of:  6.625000000000001\n",
      "Paul Rudd 's solo average Rating:  6.866666666666666  which was  greater\n",
      "Steve Carell 's solo average Rating:  6.869999999999999 which was  greater\n",
      "The Duo of:  Chris Tucker  and  Jackie Chan  had an average rating of:  6.6000000000000005\n",
      "Chris Tucker 's solo average Rating:  7.3  which was  greater\n",
      "Jackie Chan 's solo average Rating:  6.3875 which was  lower\n",
      "The Duo of:  Matthew Lillard  and  Freddie Prinze Jr.  had an average rating of:  5.366666666666667\n",
      "Matthew Lillard 's solo average Rating:  6.3  which was  greater\n",
      "Freddie Prinze Jr. 's solo average Rating:  4.7 which was  lower\n",
      "The Duo of:  Owen Wilson  and  Vince Vaughn  had an average rating of:  6.433333333333334\n",
      "Owen Wilson 's solo average Rating:  6.408333333333332  which was  lower\n",
      "Vince Vaughn 's solo average Rating:  6.437500000000001 which was  greater\n",
      "The Duo of:  Owen Wilson  and  Ben Stiller  had an average rating of:  5.8500000000000005\n",
      "Owen Wilson 's solo average Rating:  6.571428571428571  which was  greater\n",
      "Ben Stiller 's solo average Rating:  6.538888888888889 which was  greater\n",
      "The Duo of:  George Clooney  and  Matt Damon  had an average rating of:  6.9\n",
      "George Clooney 's solo average Rating:  6.692  which was  lower\n",
      "Matt Damon 's solo average Rating:  7.125806451612902 which was  greater\n",
      "The Duo of:  Geoffrey Rush  and  Orlando Bloom  had an average rating of:  7.2\n",
      "Geoffrey Rush 's solo average Rating:  7.109090909090909  which was  lower\n",
      "Orlando Bloom 's solo average Rating:  7.799999999999999 which was  greater\n",
      "The Duo of:  Brent Spiner  and  LeVar Burton  had an average rating of:  6.8\n",
      "Brent Spiner 's solo average Rating:  0  which was  lower\n",
      "LeVar Burton 's solo average Rating:  0 which was  lower\n",
      "The Duo of:  Vince Vaughn  and  Ben Stiller  had an average rating of:  6.166666666666667\n",
      "Vince Vaughn 's solo average Rating:  6.4875  which was  greater\n",
      "Ben Stiller 's solo average Rating:  6.395238095238095 which was  greater\n",
      "The Duo of:  Mark Wahlberg  and  Will Ferrell  had an average rating of:  6.3\n",
      "Mark Wahlberg 's solo average Rating:  6.64375  which was  greater\n",
      "Will Ferrell 's solo average Rating:  6.41578947368421 which was  greater\n"
     ]
    },
    {
     "name": "stdout",
     "output_type": "stream",
     "text": [
      "The Duo of:  Elijah Wood  and  Ian McKellen  had an average rating of:  8.8\n",
      "Elijah Wood 's solo average Rating:  6.766666666666667  which was  lower\n",
      "Ian McKellen 's solo average Rating:  7.33 which was  lower\n",
      "The Duo of:  Elijah Wood  and  Orlando Bloom  had an average rating of:  8.8\n",
      "Elijah Wood 's solo average Rating:  6.766666666666667  which was  lower\n",
      "Orlando Bloom 's solo average Rating:  7.114285714285714 which was  lower\n",
      "The Duo of:  Chris Evans  and  Mark Ruffalo  had an average rating of:  8.033333333333333\n",
      "Chris Evans 's solo average Rating:  6.7789473684210515  which was  lower\n",
      "Mark Ruffalo 's solo average Rating:  7.1375 which was  lower\n",
      "The Duo of:  Chris Evans  and  Chris Hemsworth  had an average rating of:  8.033333333333333\n",
      "Chris Evans 's solo average Rating:  6.7789473684210515  which was  lower\n",
      "Chris Hemsworth 's solo average Rating:  6.592307692307694 which was  lower\n",
      "The Duo of:  Jason Statham  and  Jet Li  had an average rating of:  6.175000000000001\n",
      "Jason Statham 's solo average Rating:  6.496296296296295  which was  greater\n",
      "Jet Li 's solo average Rating:  6.575 which was  greater\n",
      "The Duo of:  Jason Statham  and  Dwayne Johnson  had an average rating of:  6.733333333333334\n",
      "Jason Statham 's solo average Rating:  6.424999999999999  which was  lower\n",
      "Dwayne Johnson 's solo average Rating:  6.285185185185186 which was  lower\n",
      "The Duo of:  Ian McKellen  and  Orlando Bloom  had an average rating of:  8.8\n",
      "Ian McKellen 's solo average Rating:  7.33  which was  lower\n",
      "Orlando Bloom 's solo average Rating:  7.114285714285714 which was  lower\n",
      "The Duo of:  Ian McKellen  and  Martin Freeman  had an average rating of:  7.666666666666667\n",
      "Ian McKellen 's solo average Rating:  7.67  which was  greater\n",
      "Martin Freeman 's solo average Rating:  7.050000000000001 which was  lower\n",
      "The Duo of:  Ian McKellen  and  Richard Armitage  had an average rating of:  7.666666666666667\n",
      "Ian McKellen 's solo average Rating:  7.67  which was  greater\n",
      "Richard Armitage 's solo average Rating:  5.8 which was  lower\n",
      "The Duo of:  David Schwimmer  and  Ben Stiller  had an average rating of:  6.766666666666667\n",
      "David Schwimmer 's solo average Rating:  5.8  which was  lower\n",
      "Ben Stiller 's solo average Rating:  6.309523809523809 which was  lower\n",
      "The Duo of:  David Schwimmer  and  Chris Rock  had an average rating of:  6.766666666666667\n",
      "David Schwimmer 's solo average Rating:  5.8  which was  lower\n",
      "Chris Rock 's solo average Rating:  5.900000000000001 which was  lower\n",
      "The Duo of:  Vin Diesel  and  Paul Walker  had an average rating of:  6.959999999999999\n",
      "Vin Diesel 's solo average Rating:  6.5  which was  lower\n",
      "Paul Walker 's solo average Rating:  6.385714285714285 which was  lower\n",
      "The Duo of:  Vin Diesel  and  Dwayne Johnson  had an average rating of:  7.0249999999999995\n",
      "Vin Diesel 's solo average Rating:  6.514285714285714  which was  lower\n",
      "Dwayne Johnson 's solo average Rating:  6.223076923076922 which was  lower\n",
      "The Duo of:  Ben Stiller  and  Chris Rock  had an average rating of:  6.766666666666667\n",
      "Ben Stiller 's solo average Rating:  6.309523809523809  which was  lower\n",
      "Chris Rock 's solo average Rating:  5.900000000000001 which was  lower\n",
      "The Duo of:  Trey Parker  and  Matt Stone  had an average rating of:  7.133333333333333\n",
      "Trey Parker 's solo average Rating:  6.3  which was  lower\n",
      "Matt Stone 's solo average Rating:  0 which was  lower\n",
      "The Duo of:  James Franco  and  Seth Rogen  had an average rating of:  6.85\n",
      "James Franco 's solo average Rating:  6.736363636363635  which was  lower\n",
      "Seth Rogen 's solo average Rating:  6.5133333333333345 which was  lower\n",
      "The Duo of:  Denis Leary  and  Ray Romano  had an average rating of:  6.6800000000000015\n",
      "Denis Leary 's solo average Rating:  6.9  which was  greater\n",
      "Ray Romano 's solo average Rating:  7.5 which was  greater\n",
      "The Duo of:  Paul Walker  and  Dwayne Johnson  had an average rating of:  7.133333333333333\n",
      "Paul Walker 's solo average Rating:  6.455555555555556  which was  lower\n",
      "Dwayne Johnson 's solo average Rating:  6.24074074074074 which was  lower\n",
      "The Duo of:  Jason Biggs  and  Seann William Scott  had an average rating of:  6.466666666666666\n",
      "Jason Biggs 's solo average Rating:  7.15  which was  greater\n",
      "Seann William Scott 's solo average Rating:  6.2444444444444445 which was  lower\n",
      "The Duo of:  Daniel Radcliffe  and  Rupert Grint  had an average rating of:  7.6875\n",
      "Daniel Radcliffe 's solo average Rating:  6.540000000000001  which was  lower\n",
      "Rupert Grint 's solo average Rating:  0 which was  lower\n",
      "The Duo of:  Colin Firth  and  Mark Strong  had an average rating of:  6.733333333333333\n",
      "Colin Firth 's solo average Rating:  6.925  which was  greater\n",
      "Mark Strong 's solo average Rating:  6.949999999999999 which was  greater\n",
      "The Duo of:  Mark Ruffalo  and  Chris Hemsworth  had an average rating of:  8.0\n"
     ]
    },
    {
     "ename": "KeyboardInterrupt",
     "evalue": "",
     "output_type": "error",
     "traceback": [
      "\u001b[1;31m---------------------------------------------------------------------------\u001b[0m",
      "\u001b[1;31mKeyboardInterrupt\u001b[0m                         Traceback (most recent call last)",
      "\u001b[1;32m<ipython-input-255-1daf06c14aee>\u001b[0m in \u001b[0;36m<module>\u001b[1;34m\u001b[0m\n\u001b[1;32m----> 1\u001b[1;33m \u001b[0mdisplayDuoResults\u001b[0m\u001b[1;33m(\u001b[0m\u001b[0mfreqPairs\u001b[0m\u001b[1;33m,\u001b[0m\u001b[0mfreqActors\u001b[0m\u001b[1;33m)\u001b[0m\u001b[1;33m\u001b[0m\u001b[1;33m\u001b[0m\u001b[0m\n\u001b[0m",
      "\u001b[1;32m<ipython-input-252-cc39d06a4799>\u001b[0m in \u001b[0;36mdisplayDuoResults\u001b[1;34m(frequentPairs, frequentActors)\u001b[0m\n\u001b[0;32m     19\u001b[0m         \u001b[1;32melif\u001b[0m \u001b[0mratings2\u001b[0m \u001b[1;33m==\u001b[0m \u001b[0mCratings\u001b[0m\u001b[1;33m:\u001b[0m\u001b[1;33m\u001b[0m\u001b[1;33m\u001b[0m\u001b[0m\n\u001b[0;32m     20\u001b[0m             \u001b[0mkeyword2\u001b[0m \u001b[1;33m=\u001b[0m \u001b[1;34m\"the same\"\u001b[0m\u001b[1;33m\u001b[0m\u001b[1;33m\u001b[0m\u001b[0m\n\u001b[1;32m---> 21\u001b[1;33m         \u001b[0mprint\u001b[0m\u001b[1;33m(\u001b[0m\u001b[0mgetName\u001b[0m\u001b[1;33m(\u001b[0m\u001b[0mpair\u001b[0m\u001b[1;33m[\u001b[0m\u001b[1;36m0\u001b[0m\u001b[1;33m]\u001b[0m\u001b[1;33m)\u001b[0m\u001b[1;33m,\u001b[0m \u001b[1;34m\"'s solo average Rating: \"\u001b[0m\u001b[1;33m,\u001b[0m \u001b[0mgetRatings\u001b[0m\u001b[1;33m(\u001b[0m\u001b[0mmovies1\u001b[0m\u001b[1;33m)\u001b[0m\u001b[1;33m,\u001b[0m \u001b[1;34m\" which was \"\u001b[0m\u001b[1;33m,\u001b[0m \u001b[0mkeyword1\u001b[0m\u001b[1;33m)\u001b[0m\u001b[1;33m\u001b[0m\u001b[1;33m\u001b[0m\u001b[0m\n\u001b[0m\u001b[0;32m     22\u001b[0m         \u001b[0mprint\u001b[0m\u001b[1;33m(\u001b[0m\u001b[0mgetName\u001b[0m\u001b[1;33m(\u001b[0m\u001b[0mpair\u001b[0m\u001b[1;33m[\u001b[0m\u001b[1;36m1\u001b[0m\u001b[1;33m]\u001b[0m\u001b[1;33m)\u001b[0m\u001b[1;33m,\u001b[0m \u001b[1;34m\"'s solo average Rating: \"\u001b[0m\u001b[1;33m,\u001b[0m \u001b[0mgetRatings\u001b[0m\u001b[1;33m(\u001b[0m\u001b[0mmovies2\u001b[0m\u001b[1;33m)\u001b[0m\u001b[1;33m,\u001b[0m \u001b[1;34m\"which was \"\u001b[0m\u001b[1;33m,\u001b[0m\u001b[0mkeyword2\u001b[0m\u001b[1;33m)\u001b[0m\u001b[1;33m\u001b[0m\u001b[1;33m\u001b[0m\u001b[0m\n",
      "\u001b[1;32m<ipython-input-251-c0310326e064>\u001b[0m in \u001b[0;36mgetRatings\u001b[1;34m(movies)\u001b[0m\n\u001b[0;32m     22\u001b[0m         \u001b[1;32mreturn\u001b[0m \u001b[1;36m0\u001b[0m\u001b[1;33m\u001b[0m\u001b[1;33m\u001b[0m\u001b[0m\n\u001b[0;32m     23\u001b[0m     \u001b[1;32mfor\u001b[0m \u001b[0mmovie\u001b[0m \u001b[1;32min\u001b[0m \u001b[0mmovies\u001b[0m\u001b[1;33m:\u001b[0m\u001b[1;33m\u001b[0m\u001b[1;33m\u001b[0m\u001b[0m\n\u001b[1;32m---> 24\u001b[1;33m         \u001b[1;32mif\u001b[0m \u001b[0mlen\u001b[0m\u001b[1;33m(\u001b[0m\u001b[0mlist\u001b[0m\u001b[1;33m(\u001b[0m\u001b[0mdf_ratings\u001b[0m\u001b[1;33m[\u001b[0m\u001b[0mdf_ratings\u001b[0m\u001b[1;33m[\u001b[0m\u001b[1;34m'tconst'\u001b[0m\u001b[1;33m]\u001b[0m\u001b[1;33m==\u001b[0m \u001b[0mmovie\u001b[0m\u001b[1;33m]\u001b[0m\u001b[1;33m[\u001b[0m\u001b[1;34m'averageRating'\u001b[0m\u001b[1;33m]\u001b[0m\u001b[1;33m)\u001b[0m\u001b[1;33m)\u001b[0m\u001b[1;33m>\u001b[0m\u001b[1;36m0\u001b[0m\u001b[1;33m:\u001b[0m\u001b[1;33m\u001b[0m\u001b[1;33m\u001b[0m\u001b[0m\n\u001b[0m\u001b[0;32m     25\u001b[0m             \u001b[0mratings\u001b[0m\u001b[1;33m.\u001b[0m\u001b[0mappend\u001b[0m\u001b[1;33m(\u001b[0m\u001b[0mlist\u001b[0m\u001b[1;33m(\u001b[0m\u001b[0mdf_ratings\u001b[0m\u001b[1;33m[\u001b[0m\u001b[0mdf_ratings\u001b[0m\u001b[1;33m[\u001b[0m\u001b[1;34m'tconst'\u001b[0m\u001b[1;33m]\u001b[0m\u001b[1;33m==\u001b[0m \u001b[0mmovie\u001b[0m\u001b[1;33m]\u001b[0m\u001b[1;33m[\u001b[0m\u001b[1;34m'averageRating'\u001b[0m\u001b[1;33m]\u001b[0m\u001b[1;33m)\u001b[0m\u001b[1;33m[\u001b[0m\u001b[1;36m0\u001b[0m\u001b[1;33m]\u001b[0m\u001b[1;33m)\u001b[0m\u001b[1;33m\u001b[0m\u001b[1;33m\u001b[0m\u001b[0m\n\u001b[0;32m     26\u001b[0m     \u001b[0mrating\u001b[0m \u001b[1;33m=\u001b[0m \u001b[0mnp\u001b[0m\u001b[1;33m.\u001b[0m\u001b[0mmean\u001b[0m\u001b[1;33m(\u001b[0m\u001b[0mratings\u001b[0m\u001b[1;33m)\u001b[0m\u001b[1;33m\u001b[0m\u001b[1;33m\u001b[0m\u001b[0m\n",
      "\u001b[1;32m~\\anaconda3\\lib\\site-packages\\pandas\\core\\ops\\common.py\u001b[0m in \u001b[0;36mnew_method\u001b[1;34m(self, other)\u001b[0m\n\u001b[0;32m     62\u001b[0m         \u001b[0mother\u001b[0m \u001b[1;33m=\u001b[0m \u001b[0mitem_from_zerodim\u001b[0m\u001b[1;33m(\u001b[0m\u001b[0mother\u001b[0m\u001b[1;33m)\u001b[0m\u001b[1;33m\u001b[0m\u001b[1;33m\u001b[0m\u001b[0m\n\u001b[0;32m     63\u001b[0m \u001b[1;33m\u001b[0m\u001b[0m\n\u001b[1;32m---> 64\u001b[1;33m         \u001b[1;32mreturn\u001b[0m \u001b[0mmethod\u001b[0m\u001b[1;33m(\u001b[0m\u001b[0mself\u001b[0m\u001b[1;33m,\u001b[0m \u001b[0mother\u001b[0m\u001b[1;33m)\u001b[0m\u001b[1;33m\u001b[0m\u001b[1;33m\u001b[0m\u001b[0m\n\u001b[0m\u001b[0;32m     65\u001b[0m \u001b[1;33m\u001b[0m\u001b[0m\n\u001b[0;32m     66\u001b[0m     \u001b[1;32mreturn\u001b[0m \u001b[0mnew_method\u001b[0m\u001b[1;33m\u001b[0m\u001b[1;33m\u001b[0m\u001b[0m\n",
      "\u001b[1;32m~\\anaconda3\\lib\\site-packages\\pandas\\core\\ops\\__init__.py\u001b[0m in \u001b[0;36mwrapper\u001b[1;34m(self, other)\u001b[0m\n\u001b[0;32m    524\u001b[0m         \u001b[0mrvalues\u001b[0m \u001b[1;33m=\u001b[0m \u001b[0mextract_array\u001b[0m\u001b[1;33m(\u001b[0m\u001b[0mother\u001b[0m\u001b[1;33m,\u001b[0m \u001b[0mextract_numpy\u001b[0m\u001b[1;33m=\u001b[0m\u001b[1;32mTrue\u001b[0m\u001b[1;33m)\u001b[0m\u001b[1;33m\u001b[0m\u001b[1;33m\u001b[0m\u001b[0m\n\u001b[0;32m    525\u001b[0m \u001b[1;33m\u001b[0m\u001b[0m\n\u001b[1;32m--> 526\u001b[1;33m         \u001b[0mres_values\u001b[0m \u001b[1;33m=\u001b[0m \u001b[0mcomparison_op\u001b[0m\u001b[1;33m(\u001b[0m\u001b[0mlvalues\u001b[0m\u001b[1;33m,\u001b[0m \u001b[0mrvalues\u001b[0m\u001b[1;33m,\u001b[0m \u001b[0mop\u001b[0m\u001b[1;33m)\u001b[0m\u001b[1;33m\u001b[0m\u001b[1;33m\u001b[0m\u001b[0m\n\u001b[0m\u001b[0;32m    527\u001b[0m \u001b[1;33m\u001b[0m\u001b[0m\n\u001b[0;32m    528\u001b[0m         \u001b[1;32mreturn\u001b[0m \u001b[0m_construct_result\u001b[0m\u001b[1;33m(\u001b[0m\u001b[0mself\u001b[0m\u001b[1;33m,\u001b[0m \u001b[0mres_values\u001b[0m\u001b[1;33m,\u001b[0m \u001b[0mindex\u001b[0m\u001b[1;33m=\u001b[0m\u001b[0mself\u001b[0m\u001b[1;33m.\u001b[0m\u001b[0mindex\u001b[0m\u001b[1;33m,\u001b[0m \u001b[0mname\u001b[0m\u001b[1;33m=\u001b[0m\u001b[0mres_name\u001b[0m\u001b[1;33m)\u001b[0m\u001b[1;33m\u001b[0m\u001b[1;33m\u001b[0m\u001b[0m\n",
      "\u001b[1;32m~\\anaconda3\\lib\\site-packages\\pandas\\core\\ops\\array_ops.py\u001b[0m in \u001b[0;36mcomparison_op\u001b[1;34m(left, right, op)\u001b[0m\n\u001b[0;32m    245\u001b[0m \u001b[1;33m\u001b[0m\u001b[0m\n\u001b[0;32m    246\u001b[0m     \u001b[1;32melif\u001b[0m \u001b[0mis_object_dtype\u001b[0m\u001b[1;33m(\u001b[0m\u001b[0mlvalues\u001b[0m\u001b[1;33m.\u001b[0m\u001b[0mdtype\u001b[0m\u001b[1;33m)\u001b[0m\u001b[1;33m:\u001b[0m\u001b[1;33m\u001b[0m\u001b[1;33m\u001b[0m\u001b[0m\n\u001b[1;32m--> 247\u001b[1;33m         \u001b[0mres_values\u001b[0m \u001b[1;33m=\u001b[0m \u001b[0mcomp_method_OBJECT_ARRAY\u001b[0m\u001b[1;33m(\u001b[0m\u001b[0mop\u001b[0m\u001b[1;33m,\u001b[0m \u001b[0mlvalues\u001b[0m\u001b[1;33m,\u001b[0m \u001b[0mrvalues\u001b[0m\u001b[1;33m)\u001b[0m\u001b[1;33m\u001b[0m\u001b[1;33m\u001b[0m\u001b[0m\n\u001b[0m\u001b[0;32m    248\u001b[0m \u001b[1;33m\u001b[0m\u001b[0m\n\u001b[0;32m    249\u001b[0m     \u001b[1;32melse\u001b[0m\u001b[1;33m:\u001b[0m\u001b[1;33m\u001b[0m\u001b[1;33m\u001b[0m\u001b[0m\n",
      "\u001b[1;32m~\\anaconda3\\lib\\site-packages\\pandas\\core\\ops\\array_ops.py\u001b[0m in \u001b[0;36mcomp_method_OBJECT_ARRAY\u001b[1;34m(op, x, y)\u001b[0m\n\u001b[0;32m     56\u001b[0m     \u001b[1;32melse\u001b[0m\u001b[1;33m:\u001b[0m\u001b[1;33m\u001b[0m\u001b[1;33m\u001b[0m\u001b[0m\n\u001b[0;32m     57\u001b[0m         \u001b[0mresult\u001b[0m \u001b[1;33m=\u001b[0m \u001b[0mlibops\u001b[0m\u001b[1;33m.\u001b[0m\u001b[0mscalar_compare\u001b[0m\u001b[1;33m(\u001b[0m\u001b[0mx\u001b[0m\u001b[1;33m.\u001b[0m\u001b[0mravel\u001b[0m\u001b[1;33m(\u001b[0m\u001b[1;33m)\u001b[0m\u001b[1;33m,\u001b[0m \u001b[0my\u001b[0m\u001b[1;33m,\u001b[0m \u001b[0mop\u001b[0m\u001b[1;33m)\u001b[0m\u001b[1;33m\u001b[0m\u001b[1;33m\u001b[0m\u001b[0m\n\u001b[1;32m---> 58\u001b[1;33m     \u001b[1;32mreturn\u001b[0m \u001b[0mresult\u001b[0m\u001b[1;33m.\u001b[0m\u001b[0mreshape\u001b[0m\u001b[1;33m(\u001b[0m\u001b[0mx\u001b[0m\u001b[1;33m.\u001b[0m\u001b[0mshape\u001b[0m\u001b[1;33m)\u001b[0m\u001b[1;33m\u001b[0m\u001b[1;33m\u001b[0m\u001b[0m\n\u001b[0m\u001b[0;32m     59\u001b[0m \u001b[1;33m\u001b[0m\u001b[0m\n\u001b[0;32m     60\u001b[0m \u001b[1;33m\u001b[0m\u001b[0m\n",
      "\u001b[1;31mKeyboardInterrupt\u001b[0m: "
     ]
    }
   ],
   "source": [
    "displayDuoResults(freqPairs,freqActors)"
   ]
  },
  {
   "cell_type": "markdown",
   "metadata": {},
   "source": [
    "### Here we wrote simple code to output the top 10 pairs as well as the bottom 10 pairs and their scores"
   ]
  },
  {
   "cell_type": "code",
   "execution_count": 253,
   "metadata": {},
   "outputs": [],
   "source": [
    "def getRatingsDict(frequentPairs):\n",
    "    final = dict()\n",
    "    for pair in frequentPairs:\n",
    "        final[pair] = getRatings(frequentPairs[pair][1])\n",
    "    return final"
   ]
  },
  {
   "cell_type": "code",
   "execution_count": 256,
   "metadata": {},
   "outputs": [],
   "source": [
    "ratingsDict = getRatingsDict(freqPairs)\n",
    "\n",
    "# https://stackoverflow.com/questions/613183/how-do-i-sort-a-dictionary-by-value"
   ]
  },
  {
   "cell_type": "markdown",
   "metadata": {},
   "source": [
    "### Bottom 10"
   ]
  },
  {
   "cell_type": "code",
   "execution_count": 264,
   "metadata": {},
   "outputs": [
    {
     "name": "stdout",
     "output_type": "stream",
     "text": [
      "Antonio Banderas Daryl Sabara\n",
      "5.0\n",
      "Antonio Banderas 's solo rating:  6.568421052631578\n",
      "Daryl Sabara 's solo rating:  0\n",
      "Robert Pattinson Taylor Lautner\n",
      "5.025\n",
      "Robert Pattinson 's solo rating:  6.885714285714286\n",
      "Taylor Lautner 's solo rating:  5.1\n",
      "Matthew Lillard Freddie Prinze Jr.\n",
      "5.366666666666667\n",
      "Matthew Lillard 's solo rating:  6.3\n",
      "Freddie Prinze Jr. 's solo rating:  4.7\n",
      "Tobin Bell Costas Mandylor\n",
      "5.824999999999999\n",
      "Tobin Bell 's solo rating:  6.0\n",
      "Costas Mandylor 's solo rating:  0\n",
      "Owen Wilson Ben Stiller\n",
      "5.8500000000000005\n",
      "Owen Wilson 's solo rating:  6.571428571428571\n",
      "Ben Stiller 's solo rating:  6.538888888888889\n",
      "Adam Sandler Chris Rock\n",
      "5.900000000000001\n",
      "Adam Sandler 's solo rating:  6.239285714285715\n",
      "Chris Rock 's solo rating:  6.766666666666667\n",
      "Adam Sandler Kevin James\n",
      "6.114285714285714\n",
      "Adam Sandler 's solo rating:  6.233333333333333\n",
      "Kevin James 's solo rating:  5.74\n",
      "Jon Favreau Vince Vaughn\n",
      "6.166666666666667\n",
      "Jon Favreau 's solo rating:  7.033333333333334\n",
      "Vince Vaughn 's solo rating:  6.487500000000001\n",
      "Vince Vaughn Ben Stiller\n",
      "6.166666666666667\n",
      "Vince Vaughn 's solo rating:  6.4875\n",
      "Ben Stiller 's solo rating:  6.395238095238095\n",
      "Jason Statham Jet Li\n",
      "6.175000000000001\n",
      "Jason Statham 's solo rating:  6.496296296296295\n",
      "Jet Li 's solo rating:  6.575\n"
     ]
    }
   ],
   "source": [
    "ratingsbackwards = dict(sorted(ratingsDict.items(), key=lambda item: item[1]))\n",
    "count = 0\n",
    "for pair in ratingsbackwards:\n",
    "    print(getName(pair[0]),getName(pair[1]))\n",
    "    print(ratingsDict[pair])\n",
    "    movies1, movies2 = getSoloMovies(pair[0],pair[1],freqPairs,freqActors)\n",
    "    print(getName(pair[0]),\"'s solo rating: \",getRatings(movies1))\n",
    "    print(getName(pair[1]),\"'s solo rating: \",getRatings(movies2))\n",
    "    count+=1\n",
    "    if count == 10:\n",
    "        break"
   ]
  },
  {
   "cell_type": "markdown",
   "metadata": {},
   "source": [
    "### Top 10"
   ]
  },
  {
   "cell_type": "code",
   "execution_count": 265,
   "metadata": {},
   "outputs": [
    {
     "name": "stdout",
     "output_type": "stream",
     "text": [
      "Elijah Wood Ian McKellen\n",
      "8.8\n",
      "Elijah Wood 's solo rating:  6.766666666666667\n",
      "Ian McKellen 's solo rating:  7.33\n",
      "Elijah Wood Orlando Bloom\n",
      "8.8\n",
      "Elijah Wood 's solo rating:  6.766666666666667\n",
      "Orlando Bloom 's solo rating:  7.114285714285714\n",
      "Ian McKellen Orlando Bloom\n",
      "8.8\n",
      "Ian McKellen 's solo rating:  7.33\n",
      "Orlando Bloom 's solo rating:  7.114285714285714\n",
      "Michael Caine Christian Bale\n",
      "8.566666666666666\n",
      "Michael Caine 's solo rating:  6.988235294117647\n",
      "Christian Bale 's solo rating:  7.12\n",
      "Mark Hamill Harrison Ford\n",
      "8.533333333333333\n",
      "Mark Hamill 's solo rating:  6.7\n",
      "Harrison Ford 's solo rating:  6.960869565217391\n",
      "Robert De Niro Joe Pesci\n",
      "8.225\n",
      "Robert De Niro 's solo rating:  7.05\n",
      "Joe Pesci 's solo rating:  7.1000000000000005\n",
      "Tom Hanks Tim Allen\n",
      "8.05\n",
      "Tom Hanks 's solo rating:  7.121621621621622\n",
      "Tim Allen 's solo rating:  6.3\n",
      "Robert Downey Jr. Chris Hemsworth\n",
      "8.033333333333333\n",
      "Robert Downey Jr. 's solo rating:  7.150000000000002\n",
      "Chris Hemsworth 's solo rating:  6.592307692307694\n",
      "Chris Evans Mark Ruffalo\n",
      "8.033333333333333\n",
      "Chris Evans 's solo rating:  6.7789473684210515\n",
      "Mark Ruffalo 's solo rating:  7.1375\n",
      "Chris Evans Chris Hemsworth\n",
      "8.033333333333333\n",
      "Chris Evans 's solo rating:  6.7789473684210515\n",
      "Chris Hemsworth 's solo rating:  6.592307692307694\n"
     ]
    }
   ],
   "source": [
    "ratings = dict(sorted(ratingsDict.items(), key=lambda item: item[1],reverse=True))\n",
    "count = 0\n",
    "for pair in ratings:\n",
    "    print(getName(pair[0]),getName(pair[1]))\n",
    "    print(ratingsDict[pair])\n",
    "    movies1, movies2 = getSoloMovies(pair[0],pair[1],freqPairs,freqActors)\n",
    "    print(getName(pair[0]),\"'s solo rating: \",getRatings(movies1))\n",
    "    print(getName(pair[1]),\"'s solo rating: \",getRatings(movies2))\n",
    "    count+=1\n",
    "    if count == 10:\n",
    "        break"
   ]
  },
  {
   "cell_type": "code",
   "execution_count": null,
   "metadata": {},
   "outputs": [],
   "source": []
  },
  {
   "cell_type": "code",
   "execution_count": null,
   "metadata": {},
   "outputs": [],
   "source": []
  },
  {
   "cell_type": "markdown",
   "metadata": {},
   "source": [
    "### Here we get a list of the triples and print them out as a sanity check (Looks like we got the big dogs here all is well) "
   ]
  },
  {
   "cell_type": "code",
   "execution_count": 234,
   "metadata": {
    "scrolled": true
   },
   "outputs": [
    {
     "name": "stdout",
     "output_type": "stream",
     "text": [
      "29\n",
      "Hugh Jackman Patrick Stewart Ian McKellen\n",
      "Sylvester Stallone Burt Young Carl Weathers\n",
      "Mel Gibson Joe Pesci Danny Glover\n",
      "William Shatner Leonard Nimoy DeForest Kelley\n",
      "William Shatner Leonard Nimoy James Doohan\n",
      "William Shatner DeForest Kelley James Doohan\n",
      "Leonard Nimoy DeForest Kelley James Doohan\n",
      "Johnny Depp Geoffrey Rush Orlando Bloom\n",
      "Keanu Reeves Laurence Fishburne Hugo Weaving\n",
      "Robert Downey Jr. Chris Evans Mark Ruffalo\n",
      "Robert Downey Jr. Chris Evans Chris Hemsworth\n",
      "Robert Downey Jr. Mark Ruffalo Chris Hemsworth\n",
      "John Leguizamo Denis Leary Ray Romano\n",
      "Patrick Stewart Jonathan Frakes Brent Spiner\n",
      "Patrick Stewart Jonathan Frakes LeVar Burton\n",
      "Patrick Stewart Brent Spiner LeVar Burton\n",
      "Jonathan Frakes Brent Spiner LeVar Burton\n",
      "Adam Sandler Kevin James Andy Samberg\n",
      "Owen Wilson Vince Vaughn Ben Stiller\n",
      "Elijah Wood Ian McKellen Orlando Bloom\n",
      "Chris Evans Mark Ruffalo Chris Hemsworth\n",
      "Ian McKellen Martin Freeman Richard Armitage\n",
      "David Schwimmer Ben Stiller Chris Rock\n",
      "Vin Diesel Paul Walker Dwayne Johnson\n",
      "Shia LaBeouf Tyrese Gibson Josh Duhamel\n",
      "Justin Bartha Zach Galifianakis Bradley Cooper\n",
      "Justin Bartha Zach Galifianakis Ed Helms\n",
      "Justin Bartha Bradley Cooper Ed Helms\n",
      "Zach Galifianakis Bradley Cooper Ed Helms\n"
     ]
    }
   ],
   "source": [
    "frequentTriples = freqTriples(freqPairs,0)\n",
    "print(len(frequentTriples))\n",
    "for triple in frequentTriples:\n",
    "    print(getName(triple[0]),getName(triple[1]),getName(triple[2]))"
   ]
  },
  {
   "cell_type": "code",
   "execution_count": null,
   "metadata": {},
   "outputs": [],
   "source": []
  },
  {
   "cell_type": "markdown",
   "metadata": {},
   "source": [
    "## THE REST OF THE NOTEBOOK WAS DONE FOR THE PRESENTATION"
   ]
  },
  {
   "cell_type": "code",
   "execution_count": 58,
   "metadata": {},
   "outputs": [],
   "source": [
    "import matplotlib.pylab as plt\n",
    "overallMovieRatings = []\n",
    "for movie in qualifiedMovies:\n",
    "    overallMovieRatings.append(list(df_ratings[df_ratings['tconst']==movie]['averageRating'])[0])"
   ]
  },
  {
   "cell_type": "code",
   "execution_count": 23,
   "metadata": {},
   "outputs": [],
   "source": []
  },
  {
   "cell_type": "code",
   "execution_count": 261,
   "metadata": {},
   "outputs": [
    {
     "data": {
      "text/plain": [
       "(array([0.00143009, 0.00178762, 0.00286019, 0.00572037, 0.03003196,\n",
       "        0.15123238, 0.38076238, 0.40721911, 0.22094944, 0.01751864]),\n",
       " array([1.1 , 1.92, 2.74, 3.56, 4.38, 5.2 , 6.02, 6.84, 7.66, 8.48, 9.3 ]),\n",
       " <a list of 10 Patch objects>)"
      ]
     },
     "execution_count": 261,
     "metadata": {},
     "output_type": "execute_result"
    },
    {
     "data": {
      "image/png": "[encoded data removed]",
      "text/plain": [
       "<Figure size 432x288 with 1 Axes>"
      ]
     },
     "metadata": {
      "needs_background": "light"
     },
     "output_type": "display_data"
    }
   ],
   "source": [
    "plt.hist(overallMovieRatings,density=True)"
   ]
  },
  {
   "cell_type": "code",
   "execution_count": 239,
   "metadata": {},
   "outputs": [],
   "source": [
    "def getHistograms(frequentPairs,frequentActors):\n",
    "    ratingssolo = []\n",
    "    ratingsduo = []\n",
    "    for pair in frequentPairs:\n",
    "        movies1,movies2 = getSoloMovies(pair[0],pair[1],frequentPairs,frequentActors)\n",
    "        ratings1 = getRatings(movies1)\n",
    "        ratings2 = getRatings(movies2)\n",
    "        ratingstg = getRatings(frequentPairs[pair][1])\n",
    "        ratingssolo.append(ratings1)\n",
    "        ratingssolo.append(ratings2)\n",
    "        ratingsduo.append(ratingstg)\n",
    "    return ratingssolo, ratingsduo"
   ]
  },
  {
   "cell_type": "code",
   "execution_count": 260,
   "metadata": {},
   "outputs": [],
   "source": [
    "rating_solo, rating_duo = getHistograms(freqPairs,freqActors)"
   ]
  },
  {
   "cell_type": "code",
   "execution_count": 263,
   "metadata": {},
   "outputs": [
    {
     "name": "stdout",
     "output_type": "stream",
     "text": [
      "6.0568511938612515\n",
      "7.0078889573070615\n"
     ]
    }
   ],
   "source": [
    "print(np.mean(rating_solo))\n",
    "print(np.mean(rating_duo))"
   ]
  },
  {
   "cell_type": "code",
   "execution_count": 262,
   "metadata": {},
   "outputs": [
    {
     "data": {
      "text/plain": [
       "(array([0.06805808, 0.        , 0.0907441 , 0.29491833, 0.97549909,\n",
       "        0.43103448, 0.29491833, 0.31760436, 0.04537205, 0.11343013]),\n",
       " array([5.  , 5.38, 5.76, 6.14, 6.52, 6.9 , 7.28, 7.66, 8.04, 8.42, 8.8 ]),\n",
       " <a list of 10 Patch objects>)"
      ]
     },
     "execution_count": 262,
     "metadata": {},
     "output_type": "execute_result"
    },
    {
     "data": {
      "image/png": "[encoded data removed]",
      "text/plain": [
       "<Figure size 432x288 with 1 Axes>"
      ]
     },
     "metadata": {
      "needs_background": "light"
     },
     "output_type": "display_data"
    }
   ],
   "source": [
    "plt.hist(rating_solo,density=True)\n",
    "plt.hist(rating_duo,density=True,alpha=.5)"
   ]
  },
  {
   "cell_type": "code",
   "execution_count": null,
   "metadata": {},
   "outputs": [],
   "source": []
  },
  {
   "cell_type": "code",
   "execution_count": null,
   "metadata": {},
   "outputs": [],
   "source": []
  }
 ],
 "metadata": {
  "kernelspec": {
   "display_name": "Python 3",
   "language": "python",
   "name": "python3"
  },
  "language_info": {
   "codemirror_mode": {
    "name": "ipython",
    "version": 3
   },
   "file_extension": ".py",
   "mimetype": "text/x-python",
   "name": "python",
   "nbconvert_exporter": "python",
   "pygments_lexer": "ipython3",
   "version": "3.7.6"
  }
 },
 "nbformat": 4,
 "nbformat_minor": 4
}
