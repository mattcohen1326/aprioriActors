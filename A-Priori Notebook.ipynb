{
 "cells": [
  {
   "cell_type": "code",
   "execution_count": 9,
   "metadata": {},
   "outputs": [],
   "source": [
    "#Right now we could maybe widdle down to movies above a certain rating + number of ratings"
   ]
  },
  {
   "cell_type": "code",
   "execution_count": 7,
   "metadata": {},
   "outputs": [
    {
     "ename": "ModuleNotFoundError",
     "evalue": "No module named 'langdetect'",
     "output_type": "error",
     "traceback": [
      "\u001b[1;31m---------------------------------------------------------------------------\u001b[0m",
      "\u001b[1;31mModuleNotFoundError\u001b[0m                       Traceback (most recent call last)",
      "\u001b[1;32m<ipython-input-7-cfc784d3d86b>\u001b[0m in \u001b[0;36m<module>\u001b[1;34m\u001b[0m\n\u001b[0;32m      3\u001b[0m \u001b[1;32mimport\u001b[0m \u001b[0mtime\u001b[0m\u001b[1;33m\u001b[0m\u001b[1;33m\u001b[0m\u001b[0m\n\u001b[0;32m      4\u001b[0m \u001b[1;32mimport\u001b[0m \u001b[0mnumpy\u001b[0m \u001b[1;32mas\u001b[0m \u001b[0mnp\u001b[0m\u001b[1;33m\u001b[0m\u001b[1;33m\u001b[0m\u001b[0m\n\u001b[1;32m----> 5\u001b[1;33m \u001b[1;32mimport\u001b[0m \u001b[0mlangdetect\u001b[0m\u001b[1;33m\u001b[0m\u001b[1;33m\u001b[0m\u001b[0m\n\u001b[0m\u001b[0;32m      6\u001b[0m \u001b[1;32mimport\u001b[0m \u001b[0mitertools\u001b[0m\u001b[1;33m\u001b[0m\u001b[1;33m\u001b[0m\u001b[0m\n\u001b[0;32m      7\u001b[0m \u001b[0mdf_ratings\u001b[0m \u001b[1;33m=\u001b[0m \u001b[0mpd\u001b[0m\u001b[1;33m.\u001b[0m\u001b[0mread_csv\u001b[0m\u001b[1;33m(\u001b[0m\u001b[1;34m'data/ratings.tsv'\u001b[0m\u001b[1;33m,\u001b[0m\u001b[0msep\u001b[0m \u001b[1;33m=\u001b[0m \u001b[1;34m'\\t'\u001b[0m\u001b[1;33m)\u001b[0m\u001b[1;33m\u001b[0m\u001b[1;33m\u001b[0m\u001b[0m\n",
      "\u001b[1;31mModuleNotFoundError\u001b[0m: No module named 'langdetect'"
     ]
    }
   ],
   "source": [
    "import pandas as pd\n",
    "import csv\n",
    "import time\n",
    "import numpy as np\n",
    "import itertools\n",
    "df_ratings = pd.read_csv('data/ratings.tsv',sep = '\\t')\n",
    "titles = pd.read_csv('data/titles.tsv',sep='\\t')"
   ]
  },
  {
   "cell_type": "code",
   "execution_count": 5,
   "metadata": {},
   "outputs": [
    {
     "name": "stdout",
     "output_type": "stream",
     "text": [
      "573966\n"
     ]
    }
   ],
   "source": [
    "movies = titles[titles['titleType']=='movie']\n",
    "movies = list(movies['tconst'].unique())\n",
    "print(len(movies))"
   ]
  },
  {
   "cell_type": "code",
   "execution_count": 6,
   "metadata": {},
   "outputs": [
    {
     "name": "stdout",
     "output_type": "stream",
     "text": [
      "955.1516708090234\n",
      "6.900688579030731\n"
     ]
    }
   ],
   "source": [
    "\n",
    "#read in the ratings data\n",
    "print(np.mean(df_ratings['numVotes']))\n",
    "print(np.mean(df_ratings['averageRating']))\n",
    "avgVotes = np.mean(df_ratings['numVotes'])\n",
    "df_ratings.head()\n",
    "qualifiedMovies = []\n",
    "len(df_ratings)\n",
    "boolean_series = df_ratings.tconst.isin(movies)\n",
    "df_ratings = df_ratings[boolean_series]\n",
    "for row in df_ratings.iterrows():\n",
    "    if row[1]['averageRating'] >= 8.5 and row[1]['numVotes'] >= avgVotes:\n",
    "        qualifiedMovies.append(row[1]['tconst'])\n",
    "    "
   ]
  },
  {
   "cell_type": "code",
   "execution_count": null,
   "metadata": {},
   "outputs": [],
   "source": []
  },
  {
   "cell_type": "code",
   "execution_count": 8,
   "metadata": {},
   "outputs": [
    {
     "name": "stdout",
     "output_type": "stream",
     "text": [
      "272\n"
     ]
    }
   ],
   "source": [
    "print(len(qualifiedMovies))"
   ]
  },
  {
   "cell_type": "code",
   "execution_count": 50,
   "metadata": {},
   "outputs": [],
   "source": [
    "\n",
    "#[lambda x: x['tconst'] in qualifiedMovies]"
   ]
  },
  {
   "cell_type": "code",
   "execution_count": null,
   "metadata": {},
   "outputs": [],
   "source": []
  },
  {
   "cell_type": "code",
   "execution_count": 9,
   "metadata": {},
   "outputs": [],
   "source": [
    "count = 0\n",
    "freqActors = dict()\n",
    "for chunk in pd.read_csv('data/principals.tsv' ,sep='\\t', chunksize = 1000000, usecols = ['tconst','category','nconst']):\n",
    "    chunk = chunk[chunk['category']=='actor']\n",
    "    chunk = chunk.groupby('tconst')\n",
    "    for name, group in chunk:\n",
    "        if name not in qualifiedMovies:\n",
    "            continue\n",
    "        else:\n",
    "            actors = group['nconst'].unique()\n",
    "            for actor in actors:\n",
    "                if actor in freqActors:\n",
    "                    freqActors[actor][0] += 1\n",
    "                    freqActors[actor][1].append(name)\n",
    "                else:\n",
    "                    freqActors[actor] = [1,[name]]\n",
    "    "
   ]
  },
  {
   "cell_type": "code",
   "execution_count": 14,
   "metadata": {},
   "outputs": [
    {
     "name": "stdout",
     "output_type": "stream",
     "text": [
      "5199\n"
     ]
    }
   ],
   "source": []
  },
  {
   "cell_type": "code",
   "execution_count": 10,
   "metadata": {},
   "outputs": [],
   "source": [
    "freqActorsFinal = dict()\n",
    "for actor in freqActors:\n",
    "    if freqActors[actor][0] >= 2:\n",
    "        freqActorsFinal[actor] = freqActors[actor]"
   ]
  },
  {
   "cell_type": "code",
   "execution_count": 12,
   "metadata": {},
   "outputs": [
    {
     "ename": "IndexError",
     "evalue": "list index out of range",
     "output_type": "error",
     "traceback": [
      "\u001b[1;31m---------------------------------------------------------------------------\u001b[0m",
      "\u001b[1;31mIndexError\u001b[0m                                Traceback (most recent call last)",
      "\u001b[1;32m<ipython-input-12-a8163e99ac20>\u001b[0m in \u001b[0;36m<module>\u001b[1;34m\u001b[0m\n\u001b[0;32m     11\u001b[0m     \u001b[0mfreqActorsFinal\u001b[0m\u001b[1;33m[\u001b[0m\u001b[0mactor\u001b[0m\u001b[1;33m]\u001b[0m \u001b[1;33m=\u001b[0m \u001b[0mfreqActorsFinal\u001b[0m\u001b[1;33m[\u001b[0m\u001b[0mactor\u001b[0m\u001b[1;33m]\u001b[0m\u001b[1;33m[\u001b[0m\u001b[1;33m:\u001b[0m\u001b[0mlen\u001b[0m\u001b[1;33m(\u001b[0m\u001b[0mfreqActorsFinal\u001b[0m\u001b[1;33m[\u001b[0m\u001b[0mactor\u001b[0m\u001b[1;33m]\u001b[0m\u001b[1;33m)\u001b[0m\u001b[1;33m-\u001b[0m\u001b[1;36m1\u001b[0m\u001b[1;33m]\u001b[0m\u001b[1;33m\u001b[0m\u001b[1;33m\u001b[0m\u001b[0m\n\u001b[0;32m     12\u001b[0m \u001b[1;33m\u001b[0m\u001b[0m\n\u001b[1;32m---> 13\u001b[1;33m \u001b[0mratings\u001b[0m \u001b[1;33m=\u001b[0m \u001b[1;33m[\u001b[0m\u001b[0mfreqActorsFinal\u001b[0m\u001b[1;33m[\u001b[0m\u001b[0mactor\u001b[0m\u001b[1;33m]\u001b[0m\u001b[1;33m[\u001b[0m\u001b[1;36m2\u001b[0m\u001b[1;33m]\u001b[0m \u001b[1;32mfor\u001b[0m \u001b[0mactor\u001b[0m \u001b[1;32min\u001b[0m \u001b[0mfreqActorsFinal\u001b[0m\u001b[1;33m]\u001b[0m\u001b[1;33m\u001b[0m\u001b[1;33m\u001b[0m\u001b[0m\n\u001b[0m\u001b[0;32m     14\u001b[0m \u001b[0mprint\u001b[0m\u001b[1;33m(\u001b[0m\u001b[0mmax\u001b[0m\u001b[1;33m(\u001b[0m\u001b[0mratings\u001b[0m\u001b[1;33m)\u001b[0m\u001b[1;33m)\u001b[0m\u001b[1;33m\u001b[0m\u001b[1;33m\u001b[0m\u001b[0m\n",
      "\u001b[1;32m<ipython-input-12-a8163e99ac20>\u001b[0m in \u001b[0;36m<listcomp>\u001b[1;34m(.0)\u001b[0m\n\u001b[0;32m     11\u001b[0m     \u001b[0mfreqActorsFinal\u001b[0m\u001b[1;33m[\u001b[0m\u001b[0mactor\u001b[0m\u001b[1;33m]\u001b[0m \u001b[1;33m=\u001b[0m \u001b[0mfreqActorsFinal\u001b[0m\u001b[1;33m[\u001b[0m\u001b[0mactor\u001b[0m\u001b[1;33m]\u001b[0m\u001b[1;33m[\u001b[0m\u001b[1;33m:\u001b[0m\u001b[0mlen\u001b[0m\u001b[1;33m(\u001b[0m\u001b[0mfreqActorsFinal\u001b[0m\u001b[1;33m[\u001b[0m\u001b[0mactor\u001b[0m\u001b[1;33m]\u001b[0m\u001b[1;33m)\u001b[0m\u001b[1;33m-\u001b[0m\u001b[1;36m1\u001b[0m\u001b[1;33m]\u001b[0m\u001b[1;33m\u001b[0m\u001b[1;33m\u001b[0m\u001b[0m\n\u001b[0;32m     12\u001b[0m \u001b[1;33m\u001b[0m\u001b[0m\n\u001b[1;32m---> 13\u001b[1;33m \u001b[0mratings\u001b[0m \u001b[1;33m=\u001b[0m \u001b[1;33m[\u001b[0m\u001b[0mfreqActorsFinal\u001b[0m\u001b[1;33m[\u001b[0m\u001b[0mactor\u001b[0m\u001b[1;33m]\u001b[0m\u001b[1;33m[\u001b[0m\u001b[1;36m2\u001b[0m\u001b[1;33m]\u001b[0m \u001b[1;32mfor\u001b[0m \u001b[0mactor\u001b[0m \u001b[1;32min\u001b[0m \u001b[0mfreqActorsFinal\u001b[0m\u001b[1;33m]\u001b[0m\u001b[1;33m\u001b[0m\u001b[1;33m\u001b[0m\u001b[0m\n\u001b[0m\u001b[0;32m     14\u001b[0m \u001b[0mprint\u001b[0m\u001b[1;33m(\u001b[0m\u001b[0mmax\u001b[0m\u001b[1;33m(\u001b[0m\u001b[0mratings\u001b[0m\u001b[1;33m)\u001b[0m\u001b[1;33m)\u001b[0m\u001b[1;33m\u001b[0m\u001b[1;33m\u001b[0m\u001b[0m\n",
      "\u001b[1;31mIndexError\u001b[0m: list index out of range"
     ]
    }
   ],
   "source": [
    "##Get the average rating of the actors\n",
    "##May be useful later\n",
    "freqActorsFinal = dict(sorted(freqActorsFinal.items(), key=lambda item: item[1][0],reverse=True))\n",
    "frequentActorRatings = dict()\n",
    "df_ratings.head()\n",
    "#print(np.mean(rating))\n",
    "\n",
    "for actor in freqActorsFinal:\n",
    "    rating = [df_ratings[df_ratings['tconst']==title]['averageRating'] for title in freqActorsFinal[actor][1]]\n",
    "    rating = [list(item)[0] for item in rating]\n",
    "    freqActorsFinal[actor] = freqActorsFinal[actor][:len(freqActorsFinal[actor])-1]\n",
    "\n",
    "ratings = [freqActorsFinal[actor][2] for actor in freqActorsFinal]\n",
    "print(max(ratings))"
   ]
  },
  {
   "cell_type": "code",
   "execution_count": 13,
   "metadata": {},
   "outputs": [],
   "source": [
    "freq_pairs = dict()\n",
    "for chunk in pd.read_csv('data/principals.tsv' ,sep='\\t', chunksize = 1000000, usecols = ['tconst','category','nconst']):\n",
    "    chunk = chunk[chunk['category']=='actor']\n",
    "    chunk = chunk.groupby('tconst')\n",
    "    for name, group in chunk:\n",
    "        freqActorsGroup = [actor for actor in group['nconst'] if actor in freqActorsFinal]\n",
    "        freqPairsGroup = list(itertools.combinations(freqActorsGroup,2))\n",
    "        for pair in freqPairsGroup:\n",
    "            if pair in freq_pairs:\n",
    "                freq_pairs[pair] += 1\n",
    "            else:\n",
    "                freq_pairs[pair] = 1"
   ]
  },
  {
   "cell_type": "code",
   "execution_count": 18,
   "metadata": {},
   "outputs": [
    {
     "name": "stdout",
     "output_type": "stream",
     "text": [
      "254\n"
     ]
    }
   ],
   "source": [
    "print(len(freq_pairs))"
   ]
  },
  {
   "cell_type": "code",
   "execution_count": 34,
   "metadata": {},
   "outputs": [
    {
     "name": "stdout",
     "output_type": "stream",
     "text": [
      "Pavle Vuisic\n",
      "Soumitra Chatterjee\n",
      "Dragan Nikolic\n",
      "Mija Aleksic\n",
      "Suresh Gopi\n",
      "Kamal Haasan\n",
      "Bora Todorovic\n",
      "Nedumudi Venu\n",
      "Dragan Nikolic\n",
      "Suresh Gopi\n",
      "Suresh Gopi\n",
      "Nedumudi Venu\n",
      "Kemal Sunal\n",
      "Aleksandar Bercek\n",
      "Suresh Gopi\n",
      "Kamal Haasan\n",
      "Tarik Akan\n",
      "Danilo 'Bata' Stojkovic\n",
      "Gemini Ganesan\n",
      "Kemal Sunal\n",
      "Suresh Gopi\n",
      "Robert De Niro\n",
      "Toma Caragiu\n",
      "Dragan Nikolic\n",
      "Danilo 'Bata' Stojkovic\n",
      "Elijah Wood\n",
      "Gemini Ganesan\n",
      "Pavle Vuisic\n",
      "Mark Hamill\n",
      "Bogdan Diklic\n",
      "Bora Todorovic\n",
      "Elijah Wood\n",
      "Ian McKellen\n",
      "Münir Özkul\n",
      "Christian Bale\n",
      "Sebastian Papaiani\n",
      "Toma Caragiu\n",
      "Tapan Chatterjee\n",
      "Danilo 'Bata' Stojkovic\n",
      "Dragan Nikolic\n",
      "Morgan Freeman\n",
      "Toma Caragiu\n",
      "Dem Radulescu\n",
      "Sebastian Papaiani\n",
      "Elijah Wood\n",
      "Viggo Mortensen\n",
      "Danilo 'Bata' Stojkovic\n",
      "Bora Todorovic\n",
      "Kemal Sunal\n",
      "Tarik Akan\n",
      "Münir Özkul\n",
      "Suresh Gopi\n",
      "Kamal Haasan\n",
      "Dragan Nikolic\n",
      "Robert De Niro\n",
      "Danilo 'Bata' Stojkovic\n",
      "Pavle Vuisic\n",
      "Soumitra Chatterjee\n",
      "Robert De Niro\n",
      "Morgan Freeman\n",
      "Robert De Niro\n",
      "Gemini Ganesan\n",
      "Kamal Haasan\n",
      "Viggo Mortensen\n",
      "Nedumudi Venu\n",
      "Brad Pitt\n",
      "Halit Akçatepe\n",
      "Halit Akçatepe\n",
      "Nedumudi Venu\n",
      "Anant Nag\n",
      "Kamal Haasan\n",
      "Leonardo DiCaprio\n",
      "Victor Rebengiuc\n",
      "Bogdan Diklic\n",
      "Brad Pitt\n",
      "Jack Nicholson\n",
      "Harrison Ford\n",
      "Edward Norton\n",
      "Elijah Wood\n",
      "Tom Hanks\n",
      "Matt Damon\n",
      "Dem Radulescu\n",
      "Brad Pitt\n",
      "Taraka Rama Rao Nandamuri\n",
      "Joaquin Phoenix\n",
      "Robert De Niro\n",
      "Kemal Sunal\n",
      "Sitki Akçatepe\n",
      "Sitki Akçatepe\n",
      "Leonardo DiCaprio\n",
      "Sitki Akçatepe\n",
      "Prakash Raj\n",
      "Anant Nag\n",
      "Suresh Gopi\n",
      "Poornam Vishwanathan\n",
      "Brad Pitt\n",
      "Matt Damon\n",
      "Tom Hanks\n",
      "Tom Hanks\n",
      "Michael Caine\n",
      "Tom Hanks\n",
      "Leonardo DiCaprio\n",
      "Leonardo DiCaprio\n",
      "Matt Damon\n",
      "Jack Nicholson\n",
      "Morgan Freeman\n",
      "Prakash Raj\n",
      "Yogi Babu\n",
      "Rajendra Prasad\n",
      "Prakash Raj\n",
      "Anant Nag\n",
      "Nedumudi Venu\n",
      "Kamal Haasan\n",
      "Gemini Ganesan\n",
      "Christian Bale\n",
      "Matt Damon\n",
      "Christian Bale\n",
      "Kevin Spacey\n",
      "Kevin Spacey\n",
      "Harrison Ford\n",
      "Prakash Raj\n",
      "Joaquin Phoenix\n"
     ]
    }
   ],
   "source": [
    "freq_pairs = dict(sorted(freq_pairs.items(), key=lambda item: item[1],reverse=True))\n",
    "#('nm0482320', 'nm0007123'): 32,\n",
    "count = 0\n",
    "freq_pairsFinal = dict()\n",
    "for pair in freq_pairs:\n",
    "    if (pair[1],pair[0]) not in freq_pairsFinal:\n",
    "        freq_pairsFinal[pair] = freq_pairs[pair]\n",
    "for pair in freq_pairsFinal:\n",
    "    #print(names[names['nconst']==pair[0]]['primaryName'].to_list()[0])\n",
    "    if (\" \" in names[names['nconst']==pair[0]]['primaryName'].to_list()[0]): \n",
    "        print(names[names['nconst']==pair[0]]['primaryName'].to_list()[0])\n"
   ]
  },
  {
   "cell_type": "code",
   "execution_count": 15,
   "metadata": {},
   "outputs": [
    {
     "name": "stderr",
     "output_type": "stream",
     "text": [
      "C:\\Users\\Matt\\anaconda3\\lib\\site-packages\\IPython\\core\\interactiveshell.py:3063: DtypeWarning: Columns (4,5) have mixed types.Specify dtype option on import or set low_memory=False.\n",
      "  interactivity=interactivity, compiler=compiler, result=result)\n"
     ]
    }
   ],
   "source": [
    "names = pd.read_csv('data/names.tsv',sep = '\\t')\n",
    "titles = pd.read_csv('data/titles.tsv',sep = '\\t')"
   ]
  },
  {
   "cell_type": "code",
   "execution_count": 62,
   "metadata": {},
   "outputs": [
    {
     "data": {
      "text/html": [
       "<div>\n",
       "<style scoped>\n",
       "    .dataframe tbody tr th:only-of-type {\n",
       "        vertical-align: middle;\n",
       "    }\n",
       "\n",
       "    .dataframe tbody tr th {\n",
       "        vertical-align: top;\n",
       "    }\n",
       "\n",
       "    .dataframe thead th {\n",
       "        text-align: right;\n",
       "    }\n",
       "</style>\n",
       "<table border=\"1\" class=\"dataframe\">\n",
       "  <thead>\n",
       "    <tr style=\"text-align: right;\">\n",
       "      <th></th>\n",
       "      <th>nconst</th>\n",
       "      <th>primaryName</th>\n",
       "      <th>birthYear</th>\n",
       "      <th>deathYear</th>\n",
       "      <th>primaryProfession</th>\n",
       "      <th>knownForTitles</th>\n",
       "    </tr>\n",
       "  </thead>\n",
       "  <tbody>\n",
       "    <tr>\n",
       "      <th>7096</th>\n",
       "      <td>nm0007123</td>\n",
       "      <td>Mammootty</td>\n",
       "      <td>1951</td>\n",
       "      <td>\\N</td>\n",
       "      <td>actor,producer,music_department</td>\n",
       "      <td>tt1573478,tt0097851,tt0230597,tt0271648</td>\n",
       "    </tr>\n",
       "  </tbody>\n",
       "</table>\n",
       "</div>"
      ],
      "text/plain": [
       "         nconst primaryName birthYear deathYear  \\\n",
       "7096  nm0007123   Mammootty      1951        \\N   \n",
       "\n",
       "                    primaryProfession                           knownForTitles  \n",
       "7096  actor,producer,music_department  tt1573478,tt0097851,tt0230597,tt0271648  "
      ]
     },
     "execution_count": 62,
     "metadata": {},
     "output_type": "execute_result"
    }
   ],
   "source": [
    "names[names['nconst']=='nm0007123']['primaryName']\n",
    "#names[names['nconst']=='nm0007123']\n",
    "#titles[titles['tconst']== 'tt0118655']"
   ]
  },
  {
   "cell_type": "code",
   "execution_count": 33,
   "metadata": {},
   "outputs": [
    {
     "data": {
      "text/plain": [
       "array(['short', 'movie', 'tvShort', 'tvMovie', 'tvSeries', 'tvEpisode',\n",
       "       'tvMiniSeries', 'tvSpecial', 'video', 'videoGame', 'episode'],\n",
       "      dtype=object)"
      ]
     },
     "execution_count": 33,
     "metadata": {},
     "output_type": "execute_result"
    }
   ],
   "source": [
    "titles['titleType'].unique()\n"
   ]
  },
  {
   "cell_type": "code",
   "execution_count": null,
   "metadata": {},
   "outputs": [],
   "source": []
  }
 ],
 "metadata": {
  "kernelspec": {
   "display_name": "Python 3",
   "language": "python",
   "name": "python3"
  },
  "language_info": {
   "codemirror_mode": {
    "name": "ipython",
    "version": 3
   },
   "file_extension": ".py",
   "mimetype": "text/x-python",
   "name": "python",
   "nbconvert_exporter": "python",
   "pygments_lexer": "ipython3",
   "version": "3.7.6"
  }
 },
 "nbformat": 4,
 "nbformat_minor": 4
}
