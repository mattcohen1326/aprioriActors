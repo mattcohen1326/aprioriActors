{
 "cells": [
  {
   "cell_type": "code",
   "execution_count": 9,
   "metadata": {},
   "outputs": [],
   "source": [
    "#Right now we could maybe widdle down to movies above a certain rating + number of ratings"
   ]
  },
  {
   "cell_type": "code",
   "execution_count": 1,
   "metadata": {},
   "outputs": [],
   "source": [
    "import pandas as pd\n",
    "import csv\n",
    "import time\n",
    "import numpy as np\n",
    "import itertools"
   ]
  },
  {
   "cell_type": "code",
   "execution_count": 2,
   "metadata": {},
   "outputs": [
    {
     "name": "stderr",
     "output_type": "stream",
     "text": [
      "C:\\Users\\Matt\\anaconda3\\lib\\site-packages\\IPython\\core\\interactiveshell.py:3063: DtypeWarning: Columns (4,5) have mixed types.Specify dtype option on import or set low_memory=False.\n",
      "  interactivity=interactivity, compiler=compiler, result=result)\n"
     ]
    }
   ],
   "source": [
    "df_ratings = pd.read_csv('data/ratings.tsv',sep = '\\t')\n",
    "titles = pd.read_csv('data/titles.tsv',sep='\\t')\n",
    "names = pd.read_csv('data/names.tsv',sep = '\\t')\n",
    "movies = titles[titles['titleType']=='movie']\n",
    "movies = list(movies['tconst'].unique())"
   ]
  },
  {
   "cell_type": "code",
   "execution_count": 9,
   "metadata": {},
   "outputs": [
    {
     "data": {
      "text/html": [
       "<div>\n",
       "<style scoped>\n",
       "    .dataframe tbody tr th:only-of-type {\n",
       "        vertical-align: middle;\n",
       "    }\n",
       "\n",
       "    .dataframe tbody tr th {\n",
       "        vertical-align: top;\n",
       "    }\n",
       "\n",
       "    .dataframe thead th {\n",
       "        text-align: right;\n",
       "    }\n",
       "</style>\n",
       "<table border=\"1\" class=\"dataframe\">\n",
       "  <thead>\n",
       "    <tr style=\"text-align: right;\">\n",
       "      <th></th>\n",
       "      <th>tconst</th>\n",
       "      <th>titleType</th>\n",
       "      <th>primaryTitle</th>\n",
       "      <th>originalTitle</th>\n",
       "      <th>isAdult</th>\n",
       "      <th>startYear</th>\n",
       "      <th>endYear</th>\n",
       "      <th>runtimeMinutes</th>\n",
       "      <th>genres</th>\n",
       "    </tr>\n",
       "  </thead>\n",
       "  <tbody>\n",
       "    <tr>\n",
       "      <th>0</th>\n",
       "      <td>tt0000001</td>\n",
       "      <td>short</td>\n",
       "      <td>Carmencita</td>\n",
       "      <td>Carmencita</td>\n",
       "      <td>0</td>\n",
       "      <td>1894</td>\n",
       "      <td>\\N</td>\n",
       "      <td>1</td>\n",
       "      <td>Documentary,Short</td>\n",
       "    </tr>\n",
       "    <tr>\n",
       "      <th>1</th>\n",
       "      <td>tt0000002</td>\n",
       "      <td>short</td>\n",
       "      <td>Le clown et ses chiens</td>\n",
       "      <td>Le clown et ses chiens</td>\n",
       "      <td>0</td>\n",
       "      <td>1892</td>\n",
       "      <td>\\N</td>\n",
       "      <td>5</td>\n",
       "      <td>Animation,Short</td>\n",
       "    </tr>\n",
       "    <tr>\n",
       "      <th>2</th>\n",
       "      <td>tt0000003</td>\n",
       "      <td>short</td>\n",
       "      <td>Pauvre Pierrot</td>\n",
       "      <td>Pauvre Pierrot</td>\n",
       "      <td>0</td>\n",
       "      <td>1892</td>\n",
       "      <td>\\N</td>\n",
       "      <td>4</td>\n",
       "      <td>Animation,Comedy,Romance</td>\n",
       "    </tr>\n",
       "    <tr>\n",
       "      <th>3</th>\n",
       "      <td>tt0000004</td>\n",
       "      <td>short</td>\n",
       "      <td>Un bon bock</td>\n",
       "      <td>Un bon bock</td>\n",
       "      <td>0</td>\n",
       "      <td>1892</td>\n",
       "      <td>\\N</td>\n",
       "      <td>12</td>\n",
       "      <td>Animation,Short</td>\n",
       "    </tr>\n",
       "    <tr>\n",
       "      <th>4</th>\n",
       "      <td>tt0000005</td>\n",
       "      <td>short</td>\n",
       "      <td>Blacksmith Scene</td>\n",
       "      <td>Blacksmith Scene</td>\n",
       "      <td>0</td>\n",
       "      <td>1893</td>\n",
       "      <td>\\N</td>\n",
       "      <td>1</td>\n",
       "      <td>Comedy,Short</td>\n",
       "    </tr>\n",
       "  </tbody>\n",
       "</table>\n",
       "</div>"
      ],
      "text/plain": [
       "      tconst titleType            primaryTitle           originalTitle  \\\n",
       "0  tt0000001     short              Carmencita              Carmencita   \n",
       "1  tt0000002     short  Le clown et ses chiens  Le clown et ses chiens   \n",
       "2  tt0000003     short          Pauvre Pierrot          Pauvre Pierrot   \n",
       "3  tt0000004     short             Un bon bock             Un bon bock   \n",
       "4  tt0000005     short        Blacksmith Scene        Blacksmith Scene   \n",
       "\n",
       "  isAdult startYear endYear runtimeMinutes                    genres  \n",
       "0       0      1894      \\N              1         Documentary,Short  \n",
       "1       0      1892      \\N              5           Animation,Short  \n",
       "2       0      1892      \\N              4  Animation,Comedy,Romance  \n",
       "3       0      1892      \\N             12           Animation,Short  \n",
       "4       0      1893      \\N              1              Comedy,Short  "
      ]
     },
     "execution_count": 9,
     "metadata": {},
     "output_type": "execute_result"
    }
   ],
   "source": [
    "names.head()\n",
    "titles.head()"
   ]
  },
  {
   "cell_type": "code",
   "execution_count": 4,
   "metadata": {},
   "outputs": [],
   "source": [
    "##get a list of movies based on a rating threshold and year threshold\n",
    "def filterMovies(ratingThreshold,yearThreshold,dfratings,dftitles):\n",
    "    avgVotes = np.mean(df_ratings['numVotes'])\n",
    "    qualifiedMovies = []\n",
    "    len(df_ratings)\n",
    "    boolean_series = dfratings.tconst.isin(movies)\n",
    "    dfratings = dfratings[boolean_series]\n",
    "    for row in dfratings.iterrows():\n",
    "        if row[1]['averageRating'] >= ratingThreshold and row[1]['numVotes'] >= avgVotes:\n",
    "            qualifiedMovies.append(row[1]['tconst'])\n",
    "    qualifiedMoviesFinal = []\n",
    "    for movie in qualifiedMovies:\n",
    "        year = (list(dftitles[dftitles['tconst']==movie]['startYear'])[0])\n",
    "        if type(year) == str:\n",
    "            year = int(year)\n",
    "        if year >= yearThreshold:\n",
    "            qualifiedMoviesFinal.append(movie)\n",
    "    return qualifiedMoviesFinal"
   ]
  },
  {
   "cell_type": "code",
   "execution_count": 5,
   "metadata": {},
   "outputs": [
    {
     "ename": "NameError",
     "evalue": "name 'qualifiedMovies' is not defined",
     "output_type": "error",
     "traceback": [
      "\u001b[1;31m---------------------------------------------------------------------------\u001b[0m",
      "\u001b[1;31mNameError\u001b[0m                                 Traceback (most recent call last)",
      "\u001b[1;32m<ipython-input-5-aa5a07eac3f4>\u001b[0m in \u001b[0;36m<module>\u001b[1;34m\u001b[0m\n\u001b[1;32m----> 1\u001b[1;33m \u001b[0mprint\u001b[0m\u001b[1;33m(\u001b[0m\u001b[0mlen\u001b[0m\u001b[1;33m(\u001b[0m\u001b[0mqualifiedMovies\u001b[0m\u001b[1;33m)\u001b[0m\u001b[1;33m)\u001b[0m\u001b[1;33m\u001b[0m\u001b[1;33m\u001b[0m\u001b[0m\n\u001b[0m",
      "\u001b[1;31mNameError\u001b[0m: name 'qualifiedMovies' is not defined"
     ]
    }
   ],
   "source": [
    "print(len(qualifiedMovies))"
   ]
  },
  {
   "cell_type": "code",
   "execution_count": 6,
   "metadata": {},
   "outputs": [
    {
     "name": "stdout",
     "output_type": "stream",
     "text": [
      "2468\n"
     ]
    }
   ],
   "source": [
    "qualifiedMovies = filterMovies(7.5,2000,df_ratings,titles)\n",
    "print(len(qualifiedMovies))"
   ]
  },
  {
   "cell_type": "code",
   "execution_count": 7,
   "metadata": {},
   "outputs": [],
   "source": [
    "#find the frequent actors in the list of movies that meets the support threshold\n",
    "def findFreqActors(qMovies,supportThreshold):\n",
    "    count = 0\n",
    "    freqActors = dict()\n",
    "    for chunk in pd.read_csv('data/principals.tsv' ,sep='\\t', chunksize = 1000000, usecols = ['tconst','category','nconst']):\n",
    "        chunk = chunk[chunk['category']=='actor']\n",
    "        chunk = chunk.groupby('tconst')\n",
    "        for name, group in chunk:\n",
    "            if name not in qMovies:\n",
    "                continue\n",
    "            else:\n",
    "                actors = group['nconst'].unique()\n",
    "                for actor in actors:\n",
    "                    if actor in freqActors:\n",
    "                        freqActors[actor][0] += 1\n",
    "                        freqActors[actor][1].append(name)\n",
    "                    else:\n",
    "                        freqActors[actor] = [1,[name]]\n",
    "    freqActorsFinal = dict()\n",
    "    for actor in freqActors:\n",
    "        if freqActors[actor][0] >= supportThreshold:\n",
    "            freqActorsFinal[actor] = freqActors[actor]\n",
    "    return freqActors"
   ]
  },
  {
   "cell_type": "code",
   "execution_count": 10,
   "metadata": {},
   "outputs": [],
   "source": [
    "freqActors = findFreqActors(qualifiedMovies,2)"
   ]
  },
  {
   "cell_type": "code",
   "execution_count": 11,
   "metadata": {},
   "outputs": [
    {
     "name": "stdout",
     "output_type": "stream",
     "text": [
      "3423\n"
     ]
    }
   ],
   "source": [
    "print(len(freqActors))"
   ]
  },
  {
   "cell_type": "code",
   "execution_count": null,
   "metadata": {},
   "outputs": [],
   "source": []
  },
  {
   "cell_type": "code",
   "execution_count": 12,
   "metadata": {},
   "outputs": [],
   "source": [
    "def findPairs():\n",
    "    freq_pairs = dict()\n",
    "    for chunk in pd.read_csv('data/principals.tsv' ,sep='\\t', chunksize = 1000000, usecols = ['tconst','category','nconst']):\n",
    "        chunk = chunk[chunk['category']=='actor']\n",
    "        chunk = chunk.groupby('tconst')\n",
    "        for name, group in chunk:\n",
    "            freqActorsGroup = [actor for actor in group['nconst'] if actor in freqActors]\n",
    "            freqPairsGroup = list(itertools.combinations(freqActorsGroup,2))\n",
    "            for pair in freqPairsGroup:\n",
    "                if pair in freq_pairs:\n",
    "                    freq_pairs[pair][0] += 1\n",
    "                    freq_pairs[pair][1].append(name)\n",
    "                else:\n",
    "                    freq_pairs[pair] = [1,[name]]\n",
    "        freq_pairs = dict(sorted(freq_pairs.items(), key=lambda item: item[1],reverse=True))\n",
    "        freq_pairsFinal = dict()\n",
    "        for pair in freq_pairs:\n",
    "            if (pair[1],pair[0]) not in freq_pairsFinal:\n",
    "                freq_pairsFinal[pair] = freq_pairs[pair]\n",
    "        return freq_pairsFinal"
   ]
  },
  {
   "cell_type": "code",
   "execution_count": 13,
   "metadata": {},
   "outputs": [],
   "source": [
    "freq_pairs = findPairs()"
   ]
  },
  {
   "cell_type": "code",
   "execution_count": 18,
   "metadata": {},
   "outputs": [
    {
     "name": "stdout",
     "output_type": "stream",
     "text": [
      "1203\n"
     ]
    }
   ],
   "source": [
    "print(len(freq_pairs))\n",
    "freqpairsfinal = dict()\n",
    "for pair in freq_pairs:\n",
    "    if (freq_pairs[pair][0] >= 3):\n",
    "        freqpairsfinal[pair] = freq_pairs[pair]\n",
    "    #print(getName(pair[0]),getName(pair[1]))"
   ]
  },
  {
   "cell_type": "code",
   "execution_count": 15,
   "metadata": {},
   "outputs": [],
   "source": [
    "def getName(nconst):\n",
    "    return list(names[names['nconst']==nconst]['primaryName'])[0] \n",
    "def getSoloMovies(name1,name2,pairsDict,soloDict):\n",
    "    name1solomovies = []\n",
    "    name2solomovies = []\n",
    "    for movie in soloDict[name1][1]:\n",
    "        if movie not in pairsDict[(name1,name2)][1]:\n",
    "            name1solomovies.append(movie)\n",
    "    for movie in soloDict[name2][1]:\n",
    "        if movie not in pairsDict[(name1,name2)][1]:\n",
    "            name2solomovies.append(movie)\n",
    "    return name1solomovies,name2solomovies\n",
    "def getRatings(movies):\n",
    "    ratings = []\n",
    "    if len(movies) == 0:\n",
    "        return 0\n",
    "    for movie in movies:\n",
    "        ratings.append(list(df_ratings[df_ratings['tconst']== movie]['averageRating'])[0])\n",
    "    rating = np.mean(ratings)\n",
    "    return rating"
   ]
  },
  {
   "cell_type": "code",
   "execution_count": 25,
   "metadata": {
    "scrolled": true
   },
   "outputs": [
    {
     "name": "stdout",
     "output_type": "stream",
     "text": [
      "['tt3872778']\n",
      "['tt3872778']\n",
      "['tt0063929', 'tt0066765', 'tt0071853', 'tt0079470', 'tt0085959']\n",
      "For the duo John Cleese , Terry GilliamTheir rating of 8.04was betteer than both of their solo ratings: 7.7, 7.7\n",
      "['tt3872778']\n",
      "['tt3872778']\n",
      "['tt0063929', 'tt0071853', 'tt0084352', 'tt0085959']\n",
      "For the duo John Cleese , Eric IdleTheir rating of 8.1was betteer than both of their solo ratings: 7.7, 7.7\n",
      "['tt1045658', 'tt1302006', 'tt7286456']\n",
      "['tt1302006']\n",
      "['tt0081398', 'tt0099685', 'tt0112641']\n",
      "For the duo Robert De Niro , Joe PesciTheir rating of 8.366666666666665was betteer than both of their solo ratings: 7.966666666666666, 7.8\n"
     ]
    }
   ],
   "source": [
    "for pair in freqpairsfinal:\n",
    "    movies1, movies2 = getSoloMovies(pair[0],pair[1],freqpairsfinal,freqActors)\n",
    "    ratings1 = getRatings(movies1)\n",
    "    ratings2 = getRatings(movies2)\n",
    "    ratings_together = getRatings(freqpairsfinal[pair][1])\n",
    "    betteralone1 = True\n",
    "    betteralone2 = True\n",
    "    bt1 = False\n",
    "    bt2 = False\n",
    "    bettertogether = False\n",
    "    if ratings_together >= ratings1:\n",
    "        betteralone1 = False\n",
    "        bt1 = True\n",
    "    if ratings_together >= ratings2:\n",
    "        betteralone2 = False\n",
    "        bt2 = True\n",
    "    if bt1 and bt2:\n",
    "        bettertogether = True\n",
    "    if bettertogether:\n",
    "        print(movies1)\n",
    "        print(movies2)\n",
    "        print(freqpairsfinal[pair][1])\n",
    "        print(\"For the duo \" + getName(pair[0]) + \" , \" + getName(pair[1]) + \"Their rating of \" + str(ratings_together) + \"was betteer than both of their solo ratings: \" + str(ratings1) + \", \" + str(ratings2))\n"
   ]
  },
  {
   "cell_type": "code",
   "execution_count": 30,
   "metadata": {},
   "outputs": [
    {
     "data": {
      "text/html": [
       "<div>\n",
       "<style scoped>\n",
       "    .dataframe tbody tr th:only-of-type {\n",
       "        vertical-align: middle;\n",
       "    }\n",
       "\n",
       "    .dataframe tbody tr th {\n",
       "        vertical-align: top;\n",
       "    }\n",
       "\n",
       "    .dataframe thead th {\n",
       "        text-align: right;\n",
       "    }\n",
       "</style>\n",
       "<table border=\"1\" class=\"dataframe\">\n",
       "  <thead>\n",
       "    <tr style=\"text-align: right;\">\n",
       "      <th></th>\n",
       "      <th>tconst</th>\n",
       "      <th>titleType</th>\n",
       "      <th>primaryTitle</th>\n",
       "      <th>originalTitle</th>\n",
       "      <th>isAdult</th>\n",
       "      <th>startYear</th>\n",
       "      <th>endYear</th>\n",
       "      <th>runtimeMinutes</th>\n",
       "      <th>genres</th>\n",
       "    </tr>\n",
       "  </thead>\n",
       "  <tbody>\n",
       "    <tr>\n",
       "      <th>2692725</th>\n",
       "      <td>tt1302006</td>\n",
       "      <td>movie</td>\n",
       "      <td>The Irishman</td>\n",
       "      <td>The Irishman</td>\n",
       "      <td>0</td>\n",
       "      <td>2019</td>\n",
       "      <td>\\N</td>\n",
       "      <td>209</td>\n",
       "      <td>Biography,Crime,Drama</td>\n",
       "    </tr>\n",
       "  </tbody>\n",
       "</table>\n",
       "</div>"
      ],
      "text/plain": [
       "            tconst titleType  primaryTitle originalTitle isAdult startYear  \\\n",
       "2692725  tt1302006     movie  The Irishman  The Irishman       0      2019   \n",
       "\n",
       "        endYear runtimeMinutes                 genres  \n",
       "2692725      \\N            209  Biography,Crime,Drama  "
      ]
     },
     "execution_count": 30,
     "metadata": {},
     "output_type": "execute_result"
    }
   ],
   "source": [
    "titles[titles['tconst']=='tt1302006']"
   ]
  },
  {
   "cell_type": "code",
   "execution_count": 15,
   "metadata": {},
   "outputs": [
    {
     "name": "stderr",
     "output_type": "stream",
     "text": [
      "C:\\Users\\Matt\\anaconda3\\lib\\site-packages\\IPython\\core\\interactiveshell.py:3063: DtypeWarning: Columns (4,5) have mixed types.Specify dtype option on import or set low_memory=False.\n",
      "  interactivity=interactivity, compiler=compiler, result=result)\n"
     ]
    }
   ],
   "source": []
  },
  {
   "cell_type": "code",
   "execution_count": null,
   "metadata": {},
   "outputs": [],
   "source": []
  },
  {
   "cell_type": "code",
   "execution_count": null,
   "metadata": {},
   "outputs": [],
   "source": []
  },
  {
   "cell_type": "code",
   "execution_count": null,
   "metadata": {},
   "outputs": [],
   "source": []
  }
 ],
 "metadata": {
  "kernelspec": {
   "display_name": "Python 3",
   "language": "python",
   "name": "python3"
  },
  "language_info": {
   "codemirror_mode": {
    "name": "ipython",
    "version": 3
   },
   "file_extension": ".py",
   "mimetype": "text/x-python",
   "name": "python",
   "nbconvert_exporter": "python",
   "pygments_lexer": "ipython3",
   "version": "3.7.6"
  }
 },
 "nbformat": 4,
 "nbformat_minor": 4
}
